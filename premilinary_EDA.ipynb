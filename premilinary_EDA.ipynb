{
 "cells": [
  {
   "cell_type": "code",
   "metadata": {
    "tags": [],
    "cell_id": "00000-6398beb3-e9d5-4552-8d21-142640a72539",
    "deepnote_to_be_reexecuted": false,
    "source_hash": "b81c64ec",
    "execution_start": 1631864635649,
    "execution_millis": 1216,
    "deepnote_cell_type": "code"
   },
   "source": "import numpy as np\nimport pandas as pd\nimport matplotlib\nimport matplotlib.pyplot as plt\nfrom matplotlib import ticker\nimport seaborn as sns",
   "execution_count": 1,
   "outputs": []
  },
  {
   "cell_type": "code",
   "metadata": {
    "tags": [],
    "cell_id": "00001-43181cf4-a37f-48b9-8747-0b824172e57b",
    "deepnote_to_be_reexecuted": false,
    "source_hash": "cf312957",
    "execution_start": 1631864636865,
    "execution_millis": 199,
    "deepnote_cell_type": "code"
   },
   "source": "train = pd.read_csv('train.csv')\ntest = pd.read_csv('pretest.csv')",
   "execution_count": 2,
   "outputs": []
  },
  {
   "cell_type": "markdown",
   "source": "### Train data",
   "metadata": {
    "tags": [],
    "cell_id": "00005-eef5c977-06e1-4258-baed-ac7b70c82306",
    "deepnote_cell_type": "markdown"
   }
  },
  {
   "cell_type": "code",
   "metadata": {
    "tags": [],
    "cell_id": "00003-a33e8f05-9219-43df-9ecd-b54eae5e9f26",
    "deepnote_to_be_reexecuted": false,
    "source_hash": "e1f0b45",
    "execution_start": 1631864637221,
    "execution_millis": 27,
    "deepnote_cell_type": "code"
   },
   "source": "train.head()",
   "execution_count": 3,
   "outputs": [
    {
     "output_type": "execute_result",
     "execution_count": 3,
     "data": {
      "application/vnd.deepnote.dataframe.v2+json": {
       "row_count": 5,
       "column_count": 14,
       "columns": [
        {
         "name": "MOFname",
         "dtype": "object",
         "stats": {
          "unique_count": 5,
          "nan_count": 0,
          "categories": [
           {
            "name": "mof_unit_1",
            "count": 1
           },
           {
            "name": "mof_unit_2",
            "count": 1
           },
           {
            "name": "3 others",
            "count": 3
           }
          ]
         }
        },
        {
         "name": "volume [A^3]",
         "dtype": "float64",
         "stats": {
          "unique_count": 5,
          "nan_count": 0,
          "min": "1089.818728",
          "max": "2769.503842",
          "histogram": [
           {
            "bin_start": 1089.818728,
            "bin_end": 1257.7872394,
            "count": 3
           },
           {
            "bin_start": 1257.7872394,
            "bin_end": 1425.7557508,
            "count": 0
           },
           {
            "bin_start": 1425.7557508,
            "bin_end": 1593.7242621999999,
            "count": 0
           },
           {
            "bin_start": 1593.7242621999999,
            "bin_end": 1761.6927736,
            "count": 0
           },
           {
            "bin_start": 1761.6927736,
            "bin_end": 1929.6612850000001,
            "count": 0
           },
           {
            "bin_start": 1929.6612850000001,
            "bin_end": 2097.6297964,
            "count": 0
           },
           {
            "bin_start": 2097.6297964,
            "bin_end": 2265.5983078,
            "count": 1
           },
           {
            "bin_start": 2265.5983078,
            "bin_end": 2433.5668192000003,
            "count": 0
           },
           {
            "bin_start": 2433.5668192000003,
            "bin_end": 2601.5353305999997,
            "count": 0
           },
           {
            "bin_start": 2601.5353305999997,
            "bin_end": 2769.503842,
            "count": 1
           }
          ]
         }
        },
        {
         "name": "weight [u]",
         "dtype": "float64",
         "stats": {
          "unique_count": 5,
          "nan_count": 0,
          "min": "773.68796",
          "max": "2211.697211",
          "histogram": [
           {
            "bin_start": 773.68796,
            "bin_end": 917.4888851000001,
            "count": 3
           },
           {
            "bin_start": 917.4888851000001,
            "bin_end": 1061.2898102,
            "count": 0
           },
           {
            "bin_start": 1061.2898102,
            "bin_end": 1205.0907353,
            "count": 0
           },
           {
            "bin_start": 1205.0907353,
            "bin_end": 1348.8916604,
            "count": 1
           },
           {
            "bin_start": 1348.8916604,
            "bin_end": 1492.6925855000002,
            "count": 0
           },
           {
            "bin_start": 1492.6925855000002,
            "bin_end": 1636.4935106000003,
            "count": 0
           },
           {
            "bin_start": 1636.4935106000003,
            "bin_end": 1780.2944357000001,
            "count": 0
           },
           {
            "bin_start": 1780.2944357000001,
            "bin_end": 1924.0953608000002,
            "count": 0
           },
           {
            "bin_start": 1924.0953608000002,
            "bin_end": 2067.8962859000003,
            "count": 0
           },
           {
            "bin_start": 2067.8962859000003,
            "bin_end": 2211.697211,
            "count": 1
           }
          ]
         }
        },
        {
         "name": "surface_area [m^2/g]",
         "dtype": "float64",
         "stats": {
          "unique_count": 4,
          "nan_count": 0,
          "min": "0.0",
          "max": "1441.53",
          "histogram": [
           {
            "bin_start": 0,
            "bin_end": 144.153,
            "count": 2
           },
           {
            "bin_start": 144.153,
            "bin_end": 288.306,
            "count": 0
           },
           {
            "bin_start": 288.306,
            "bin_end": 432.45899999999995,
            "count": 0
           },
           {
            "bin_start": 432.45899999999995,
            "bin_end": 576.612,
            "count": 0
           },
           {
            "bin_start": 576.612,
            "bin_end": 720.765,
            "count": 1
           },
           {
            "bin_start": 720.765,
            "bin_end": 864.9179999999999,
            "count": 1
           },
           {
            "bin_start": 864.9179999999999,
            "bin_end": 1009.0709999999999,
            "count": 0
           },
           {
            "bin_start": 1009.0709999999999,
            "bin_end": 1153.224,
            "count": 0
           },
           {
            "bin_start": 1153.224,
            "bin_end": 1297.377,
            "count": 0
           },
           {
            "bin_start": 1297.377,
            "bin_end": 1441.53,
            "count": 1
           }
          ]
         }
        },
        {
         "name": "void_fraction",
         "dtype": "float64",
         "stats": {
          "unique_count": 5,
          "nan_count": 0,
          "min": "0.07778",
          "max": "0.21814",
          "histogram": [
           {
            "bin_start": 0.07778,
            "bin_end": 0.091816,
            "count": 2
           },
           {
            "bin_start": 0.091816,
            "bin_end": 0.105852,
            "count": 0
           },
           {
            "bin_start": 0.105852,
            "bin_end": 0.119888,
            "count": 0
           },
           {
            "bin_start": 0.119888,
            "bin_end": 0.133924,
            "count": 0
           },
           {
            "bin_start": 0.133924,
            "bin_end": 0.14795999999999998,
            "count": 1
           },
           {
            "bin_start": 0.14795999999999998,
            "bin_end": 0.16199599999999997,
            "count": 1
           },
           {
            "bin_start": 0.16199599999999997,
            "bin_end": 0.176032,
            "count": 0
           },
           {
            "bin_start": 0.176032,
            "bin_end": 0.190068,
            "count": 0
           },
           {
            "bin_start": 0.190068,
            "bin_end": 0.204104,
            "count": 0
           },
           {
            "bin_start": 0.204104,
            "bin_end": 0.21814,
            "count": 1
           }
          ]
         }
        },
        {
         "name": "void_volume [cm^3/g]",
         "dtype": "float64",
         "stats": {
          "unique_count": 5,
          "nan_count": 0,
          "min": "0.0591",
          "max": "0.222",
          "histogram": [
           {
            "bin_start": 0.0591,
            "bin_end": 0.07539,
            "count": 2
           },
           {
            "bin_start": 0.07539,
            "bin_end": 0.09168,
            "count": 0
           },
           {
            "bin_start": 0.09168,
            "bin_end": 0.10797,
            "count": 1
           },
           {
            "bin_start": 0.10797,
            "bin_end": 0.12426,
            "count": 0
           },
           {
            "bin_start": 0.12426,
            "bin_end": 0.14055,
            "count": 1
           },
           {
            "bin_start": 0.14055,
            "bin_end": 0.15683999999999998,
            "count": 0
           },
           {
            "bin_start": 0.15683999999999998,
            "bin_end": 0.17313,
            "count": 0
           },
           {
            "bin_start": 0.17313,
            "bin_end": 0.18941999999999998,
            "count": 0
           },
           {
            "bin_start": 0.18941999999999998,
            "bin_end": 0.20571,
            "count": 0
           },
           {
            "bin_start": 0.20571,
            "bin_end": 0.222,
            "count": 1
           }
          ]
         }
        },
        {
         "name": "functional_groups",
         "dtype": "object",
         "stats": {
          "unique_count": 5,
          "nan_count": 0,
          "categories": [
           {
            "name": "COOH-OEt",
            "count": 1
           },
           {
            "name": "F-OMe",
            "count": 1
           },
           {
            "name": "3 others",
            "count": 3
           }
          ]
         }
        },
        {
         "name": "metal_linker",
         "dtype": "int64",
         "stats": {
          "unique_count": 4,
          "nan_count": 0,
          "min": "2",
          "max": "10",
          "histogram": [
           {
            "bin_start": 2,
            "bin_end": 2.8,
            "count": 2
           },
           {
            "bin_start": 2.8,
            "bin_end": 3.6,
            "count": 1
           },
           {
            "bin_start": 3.6,
            "bin_end": 4.4,
            "count": 0
           },
           {
            "bin_start": 4.4,
            "bin_end": 5.2,
            "count": 0
           },
           {
            "bin_start": 5.2,
            "bin_end": 6,
            "count": 0
           },
           {
            "bin_start": 6,
            "bin_end": 6.800000000000001,
            "count": 0
           },
           {
            "bin_start": 6.800000000000001,
            "bin_end": 7.6000000000000005,
            "count": 0
           },
           {
            "bin_start": 7.6000000000000005,
            "bin_end": 8.4,
            "count": 0
           },
           {
            "bin_start": 8.4,
            "bin_end": 9.2,
            "count": 1
           },
           {
            "bin_start": 9.2,
            "bin_end": 10,
            "count": 1
           }
          ]
         }
        },
        {
         "name": "organic_linker1",
         "dtype": "int64",
         "stats": {
          "unique_count": 5,
          "nan_count": 0,
          "min": "1",
          "max": "44",
          "histogram": [
           {
            "bin_start": 1,
            "bin_end": 5.3,
            "count": 2
           },
           {
            "bin_start": 5.3,
            "bin_end": 9.6,
            "count": 0
           },
           {
            "bin_start": 9.6,
            "bin_end": 13.899999999999999,
            "count": 0
           },
           {
            "bin_start": 13.899999999999999,
            "bin_end": 18.2,
            "count": 1
           },
           {
            "bin_start": 18.2,
            "bin_end": 22.5,
            "count": 1
           },
           {
            "bin_start": 22.5,
            "bin_end": 26.799999999999997,
            "count": 0
           },
           {
            "bin_start": 26.799999999999997,
            "bin_end": 31.099999999999998,
            "count": 0
           },
           {
            "bin_start": 31.099999999999998,
            "bin_end": 35.4,
            "count": 0
           },
           {
            "bin_start": 35.4,
            "bin_end": 39.699999999999996,
            "count": 0
           },
           {
            "bin_start": 39.699999999999996,
            "bin_end": 44,
            "count": 1
           }
          ]
         }
        },
        {
         "name": "organic_linker2",
         "dtype": "int64",
         "stats": {
          "unique_count": 4,
          "nan_count": 0,
          "min": "11",
          "max": "57",
          "histogram": [
           {
            "bin_start": 11,
            "bin_end": 15.6,
            "count": 1
           },
           {
            "bin_start": 15.6,
            "bin_end": 20.2,
            "count": 0
           },
           {
            "bin_start": 20.2,
            "bin_end": 24.799999999999997,
            "count": 3
           },
           {
            "bin_start": 24.799999999999997,
            "bin_end": 29.4,
            "count": 0
           },
           {
            "bin_start": 29.4,
            "bin_end": 34,
            "count": 0
           },
           {
            "bin_start": 34,
            "bin_end": 38.599999999999994,
            "count": 0
           },
           {
            "bin_start": 38.599999999999994,
            "bin_end": 43.199999999999996,
            "count": 0
           },
           {
            "bin_start": 43.199999999999996,
            "bin_end": 47.8,
            "count": 0
           },
           {
            "bin_start": 47.8,
            "bin_end": 52.4,
            "count": 0
           },
           {
            "bin_start": 52.4,
            "bin_end": 57,
            "count": 1
           }
          ]
         }
        },
        {
         "name": "topology",
         "dtype": "object",
         "stats": {
          "unique_count": 3,
          "nan_count": 0,
          "categories": [
           {
            "name": "pcu",
            "count": 3
           },
           {
            "name": "etb",
            "count": 1
           },
           {
            "name": "sra",
            "count": 1
           }
          ]
         }
        },
        {
         "name": "CO2/N2_selectivity",
         "dtype": "float64",
         "stats": {
          "unique_count": 5,
          "nan_count": 0,
          "min": "19.26372569",
          "max": "33.61678033",
          "histogram": [
           {
            "bin_start": 19.26372569,
            "bin_end": 20.699031154,
            "count": 1
           },
           {
            "bin_start": 20.699031154,
            "bin_end": 22.134336618,
            "count": 0
           },
           {
            "bin_start": 22.134336618,
            "bin_end": 23.569642082,
            "count": 1
           },
           {
            "bin_start": 23.569642082,
            "bin_end": 25.004947546,
            "count": 0
           },
           {
            "bin_start": 25.004947546,
            "bin_end": 26.44025301,
            "count": 1
           },
           {
            "bin_start": 26.44025301,
            "bin_end": 27.875558473999998,
            "count": 0
           },
           {
            "bin_start": 27.875558473999998,
            "bin_end": 29.310863937999997,
            "count": 0
           },
           {
            "bin_start": 29.310863937999997,
            "bin_end": 30.746169402,
            "count": 1
           },
           {
            "bin_start": 30.746169402,
            "bin_end": 32.181474865999995,
            "count": 0
           },
           {
            "bin_start": 32.181474865999995,
            "bin_end": 33.61678033,
            "count": 1
           }
          ]
         }
        },
        {
         "name": "heat_adsorption_CO2_P0.15bar_T298K [kcal/mol]",
         "dtype": "float64",
         "stats": {
          "unique_count": 5,
          "nan_count": 0,
          "min": "6.190085",
          "max": "7.147286",
          "histogram": [
           {
            "bin_start": 6.190085,
            "bin_end": 6.2858051,
            "count": 1
           },
           {
            "bin_start": 6.2858051,
            "bin_end": 6.3815252,
            "count": 1
           },
           {
            "bin_start": 6.3815252,
            "bin_end": 6.4772453,
            "count": 0
           },
           {
            "bin_start": 6.4772453,
            "bin_end": 6.5729654,
            "count": 1
           },
           {
            "bin_start": 6.5729654,
            "bin_end": 6.6686855000000005,
            "count": 0
           },
           {
            "bin_start": 6.6686855000000005,
            "bin_end": 6.7644056,
            "count": 0
           },
           {
            "bin_start": 6.7644056,
            "bin_end": 6.8601257,
            "count": 1
           },
           {
            "bin_start": 6.8601257,
            "bin_end": 6.9558458000000005,
            "count": 0
           },
           {
            "bin_start": 6.9558458000000005,
            "bin_end": 7.0515659,
            "count": 0
           },
           {
            "bin_start": 7.0515659,
            "bin_end": 7.147286,
            "count": 1
           }
          ]
         }
        },
        {
         "name": "CO2_working_capacity [mL/g]",
         "dtype": "float64",
         "stats": {
          "unique_count": 5,
          "nan_count": 0,
          "min": "79.21000065588353",
          "max": "187.62600449626183",
          "histogram": [
           {
            "bin_start": 79.21000065588353,
            "bin_end": 90.05160103992137,
            "count": 1
           },
           {
            "bin_start": 90.05160103992137,
            "bin_end": 100.8932014239592,
            "count": 0
           },
           {
            "bin_start": 100.8932014239592,
            "bin_end": 111.73480180799702,
            "count": 2
           },
           {
            "bin_start": 111.73480180799702,
            "bin_end": 122.57640219203485,
            "count": 1
           },
           {
            "bin_start": 122.57640219203485,
            "bin_end": 133.4180025760727,
            "count": 0
           },
           {
            "bin_start": 133.4180025760727,
            "bin_end": 144.2596029601105,
            "count": 0
           },
           {
            "bin_start": 144.2596029601105,
            "bin_end": 155.10120334414833,
            "count": 0
           },
           {
            "bin_start": 155.10120334414833,
            "bin_end": 165.94280372818616,
            "count": 0
           },
           {
            "bin_start": 165.94280372818616,
            "bin_end": 176.784404112224,
            "count": 0
           },
           {
            "bin_start": 176.784404112224,
            "bin_end": 187.62600449626183,
            "count": 1
           }
          ]
         }
        },
        {
         "name": "_deepnote_index_column",
         "dtype": "int64"
        }
       ],
       "rows_top": [
        {
         "MOFname": "mof_unit_1",
         "volume [A^3]": 1116.667429,
         "weight [u]": 875.2405999999999,
         "surface_area [m^2/g]": 0,
         "void_fraction": 0.07899,
         "void_volume [cm^3/g]": 0.0606999999999999,
         "functional_groups": "COOH-OEt",
         "metal_linker": 3,
         "organic_linker1": 4,
         "organic_linker2": 11,
         "topology": "pcu",
         "CO2/N2_selectivity": 22.86416611,
         "heat_adsorption_CO2_P0.15bar_T298K [kcal/mol]": 6.786041,
         "CO2_working_capacity [mL/g]": 105.2845017241596,
         "_deepnote_index_column": 0
        },
        {
         "MOFname": "mof_unit_2",
         "volume [A^3]": 2769.503842,
         "weight [u]": 2211.697211,
         "surface_area [m^2/g]": 603.61,
         "void_fraction": 0.13794,
         "void_volume [cm^3/g]": 0.104,
         "functional_groups": "F-OMe",
         "metal_linker": 10,
         "organic_linker1": 44,
         "organic_linker2": 57,
         "topology": "etb",
         "CO2/N2_selectivity": 33.61678033,
         "heat_adsorption_CO2_P0.15bar_T298K [kcal/mol]": 7.147286,
         "CO2_working_capacity [mL/g]": 101.22477417834172,
         "_deepnote_index_column": 1
        },
        {
         "MOFname": "mof_unit_3",
         "volume [A^3]": 1089.818728,
         "weight [u]": 773.68796,
         "surface_area [m^2/g]": 788.5,
         "void_fraction": 0.14874,
         "void_volume [cm^3/g]": 0.1262,
         "functional_groups": "OMe-COOH",
         "metal_linker": 2,
         "organic_linker1": 22,
         "organic_linker2": 24,
         "topology": "pcu",
         "CO2/N2_selectivity": 19.26372569,
         "heat_adsorption_CO2_P0.15bar_T298K [kcal/mol]": 6.347967,
         "CO2_working_capacity [mL/g]": 118.98701074687752,
         "_deepnote_index_column": 2
        },
        {
         "MOFname": "mof_unit_4",
         "volume [A^3]": 2205.1983010000004,
         "weight [u]": 1304.63872,
         "surface_area [m^2/g]": 1441.53,
         "void_fraction": 0.21814,
         "void_volume [cm^3/g]": 0.222,
         "functional_groups": "H-SO3H",
         "metal_linker": 9,
         "organic_linker1": 17,
         "organic_linker2": 24,
         "topology": "sra",
         "CO2/N2_selectivity": 25.70137692,
         "heat_adsorption_CO2_P0.15bar_T298K [kcal/mol]": 6.190085,
         "CO2_working_capacity [mL/g]": 187.62600449626183,
         "_deepnote_index_column": 3
        },
        {
         "MOFname": "mof_unit_5",
         "volume [A^3]": 1137.800963,
         "weight [u]": 901.73612,
         "surface_area [m^2/g]": 0,
         "void_fraction": 0.07778,
         "void_volume [cm^3/g]": 0.0591,
         "functional_groups": "NHMe-OH",
         "metal_linker": 2,
         "organic_linker1": 1,
         "organic_linker2": 22,
         "topology": "pcu",
         "CO2/N2_selectivity": 30.00183795,
         "heat_adsorption_CO2_P0.15bar_T298K [kcal/mol]": 6.478063,
         "CO2_working_capacity [mL/g]": 79.21000065588353,
         "_deepnote_index_column": 4
        }
       ],
       "rows_bottom": null
      },
      "text/plain": "      MOFname  volume [A^3]   weight [u]  surface_area [m^2/g]  void_fraction  \\\n0  mof_unit_1   1116.667429   875.240600                  0.00        0.07899   \n1  mof_unit_2   2769.503842  2211.697211                603.61        0.13794   \n2  mof_unit_3   1089.818728   773.687960                788.50        0.14874   \n3  mof_unit_4   2205.198301  1304.638720               1441.53        0.21814   \n4  mof_unit_5   1137.800963   901.736120                  0.00        0.07778   \n\n   void_volume [cm^3/g] functional_groups  metal_linker  organic_linker1  \\\n0                0.0607          COOH-OEt             3                4   \n1                0.1040             F-OMe            10               44   \n2                0.1262          OMe-COOH             2               22   \n3                0.2220            H-SO3H             9               17   \n4                0.0591           NHMe-OH             2                1   \n\n   organic_linker2 topology  CO2/N2_selectivity  \\\n0               11      pcu           22.864166   \n1               57      etb           33.616780   \n2               24      pcu           19.263726   \n3               24      sra           25.701377   \n4               22      pcu           30.001838   \n\n   heat_adsorption_CO2_P0.15bar_T298K [kcal/mol]  CO2_working_capacity [mL/g]  \n0                                       6.786041                   105.284502  \n1                                       7.147286                   101.224774  \n2                                       6.347967                   118.987011  \n3                                       6.190085                   187.626004  \n4                                       6.478063                    79.210001  ",
      "text/html": "<div>\n<style scoped>\n    .dataframe tbody tr th:only-of-type {\n        vertical-align: middle;\n    }\n\n    .dataframe tbody tr th {\n        vertical-align: top;\n    }\n\n    .dataframe thead th {\n        text-align: right;\n    }\n</style>\n<table border=\"1\" class=\"dataframe\">\n  <thead>\n    <tr style=\"text-align: right;\">\n      <th></th>\n      <th>MOFname</th>\n      <th>volume [A^3]</th>\n      <th>weight [u]</th>\n      <th>surface_area [m^2/g]</th>\n      <th>void_fraction</th>\n      <th>void_volume [cm^3/g]</th>\n      <th>functional_groups</th>\n      <th>metal_linker</th>\n      <th>organic_linker1</th>\n      <th>organic_linker2</th>\n      <th>topology</th>\n      <th>CO2/N2_selectivity</th>\n      <th>heat_adsorption_CO2_P0.15bar_T298K [kcal/mol]</th>\n      <th>CO2_working_capacity [mL/g]</th>\n    </tr>\n  </thead>\n  <tbody>\n    <tr>\n      <th>0</th>\n      <td>mof_unit_1</td>\n      <td>1116.667429</td>\n      <td>875.240600</td>\n      <td>0.00</td>\n      <td>0.07899</td>\n      <td>0.0607</td>\n      <td>COOH-OEt</td>\n      <td>3</td>\n      <td>4</td>\n      <td>11</td>\n      <td>pcu</td>\n      <td>22.864166</td>\n      <td>6.786041</td>\n      <td>105.284502</td>\n    </tr>\n    <tr>\n      <th>1</th>\n      <td>mof_unit_2</td>\n      <td>2769.503842</td>\n      <td>2211.697211</td>\n      <td>603.61</td>\n      <td>0.13794</td>\n      <td>0.1040</td>\n      <td>F-OMe</td>\n      <td>10</td>\n      <td>44</td>\n      <td>57</td>\n      <td>etb</td>\n      <td>33.616780</td>\n      <td>7.147286</td>\n      <td>101.224774</td>\n    </tr>\n    <tr>\n      <th>2</th>\n      <td>mof_unit_3</td>\n      <td>1089.818728</td>\n      <td>773.687960</td>\n      <td>788.50</td>\n      <td>0.14874</td>\n      <td>0.1262</td>\n      <td>OMe-COOH</td>\n      <td>2</td>\n      <td>22</td>\n      <td>24</td>\n      <td>pcu</td>\n      <td>19.263726</td>\n      <td>6.347967</td>\n      <td>118.987011</td>\n    </tr>\n    <tr>\n      <th>3</th>\n      <td>mof_unit_4</td>\n      <td>2205.198301</td>\n      <td>1304.638720</td>\n      <td>1441.53</td>\n      <td>0.21814</td>\n      <td>0.2220</td>\n      <td>H-SO3H</td>\n      <td>9</td>\n      <td>17</td>\n      <td>24</td>\n      <td>sra</td>\n      <td>25.701377</td>\n      <td>6.190085</td>\n      <td>187.626004</td>\n    </tr>\n    <tr>\n      <th>4</th>\n      <td>mof_unit_5</td>\n      <td>1137.800963</td>\n      <td>901.736120</td>\n      <td>0.00</td>\n      <td>0.07778</td>\n      <td>0.0591</td>\n      <td>NHMe-OH</td>\n      <td>2</td>\n      <td>1</td>\n      <td>22</td>\n      <td>pcu</td>\n      <td>30.001838</td>\n      <td>6.478063</td>\n      <td>79.210001</td>\n    </tr>\n  </tbody>\n</table>\n</div>"
     },
     "metadata": {}
    }
   ]
  },
  {
   "cell_type": "code",
   "source": "train.columns",
   "metadata": {
    "tags": [],
    "cell_id": "00004-7b78d928-4b4f-4381-80d1-b95c075c1689",
    "deepnote_to_be_reexecuted": false,
    "source_hash": "6d1d5103",
    "execution_start": 1631864637222,
    "execution_millis": 1,
    "deepnote_cell_type": "code"
   },
   "outputs": [
    {
     "output_type": "execute_result",
     "execution_count": 4,
     "data": {
      "text/plain": "Index(['MOFname', 'volume [A^3]', 'weight [u]', 'surface_area [m^2/g]',\n       'void_fraction', 'void_volume [cm^3/g]', 'functional_groups',\n       'metal_linker', 'organic_linker1', 'organic_linker2', 'topology',\n       'CO2/N2_selectivity', 'heat_adsorption_CO2_P0.15bar_T298K [kcal/mol]',\n       'CO2_working_capacity [mL/g]'],\n      dtype='object')"
     },
     "metadata": {}
    }
   ],
   "execution_count": 4
  },
  {
   "cell_type": "code",
   "metadata": {
    "tags": [],
    "cell_id": "00002-95955d94-901b-4fd3-87aa-864da5d3e0c9",
    "deepnote_to_be_reexecuted": false,
    "source_hash": "4dfd64e9",
    "execution_start": 1631864637229,
    "execution_millis": 66,
    "deepnote_cell_type": "code"
   },
   "source": "train.replace([np.inf, -np.inf], np.nan, inplace=True)\nprint(\"Train data: {} rows, {} columns, {} missing values\".format(train.shape[0], train.shape[1], sum(train.isna().sum())))",
   "execution_count": 5,
   "outputs": [
    {
     "name": "stdout",
     "text": "Train data: 68613 rows, 14 columns, 2412 missing values\n",
     "output_type": "stream"
    }
   ]
  },
  {
   "cell_type": "code",
   "metadata": {
    "tags": [],
    "cell_id": "00004-73f9f391-0890-4a84-b64f-94de4bcdfa36",
    "deepnote_to_be_reexecuted": false,
    "source_hash": "3dc5e06b",
    "execution_start": 1631864637281,
    "execution_millis": 68,
    "deepnote_cell_type": "code"
   },
   "source": "train.describe()",
   "execution_count": 6,
   "outputs": [
    {
     "output_type": "execute_result",
     "execution_count": 6,
     "data": {
      "application/vnd.deepnote.dataframe.v2+json": {
       "row_count": 8,
       "column_count": 11,
       "columns": [
        {
         "name": "volume [A^3]",
         "dtype": "float64",
         "stats": {
          "unique_count": 8,
          "nan_count": 0,
          "min": "606.576038",
          "max": "223964.854408",
          "histogram": [
           {
            "bin_start": 606.576038,
            "bin_end": 22942.403875,
            "count": 6
           },
           {
            "bin_start": 22942.403875,
            "bin_end": 45278.231712,
            "count": 0
           },
           {
            "bin_start": 45278.231712,
            "bin_end": 67614.059549,
            "count": 0
           },
           {
            "bin_start": 67614.059549,
            "bin_end": 89949.887386,
            "count": 1
           },
           {
            "bin_start": 89949.887386,
            "bin_end": 112285.715223,
            "count": 0
           },
           {
            "bin_start": 112285.715223,
            "bin_end": 134621.54306,
            "count": 0
           },
           {
            "bin_start": 134621.54306,
            "bin_end": 156957.37089700002,
            "count": 0
           },
           {
            "bin_start": 156957.37089700002,
            "bin_end": 179293.198734,
            "count": 0
           },
           {
            "bin_start": 179293.198734,
            "bin_end": 201629.026571,
            "count": 0
           },
           {
            "bin_start": 201629.026571,
            "bin_end": 223964.854408,
            "count": 1
           }
          ]
         }
        },
        {
         "name": "weight [u]",
         "dtype": "float64",
         "stats": {
          "unique_count": 8,
          "nan_count": 0,
          "min": "439.28122",
          "max": "68613.0",
          "histogram": [
           {
            "bin_start": 439.28122,
            "bin_end": 7256.653098,
            "count": 6
           },
           {
            "bin_start": 7256.653098,
            "bin_end": 14074.024976,
            "count": 0
           },
           {
            "bin_start": 14074.024976,
            "bin_end": 20891.396854000002,
            "count": 0
           },
           {
            "bin_start": 20891.396854000002,
            "bin_end": 27708.768732,
            "count": 1
           },
           {
            "bin_start": 27708.768732,
            "bin_end": 34526.140609999995,
            "count": 0
           },
           {
            "bin_start": 34526.140609999995,
            "bin_end": 41343.512488,
            "count": 0
           },
           {
            "bin_start": 41343.512488,
            "bin_end": 48160.884366,
            "count": 0
           },
           {
            "bin_start": 48160.884366,
            "bin_end": 54978.256244,
            "count": 0
           },
           {
            "bin_start": 54978.256244,
            "bin_end": 61795.628121999995,
            "count": 0
           },
           {
            "bin_start": 61795.628121999995,
            "bin_end": 68613,
            "count": 1
           }
          ]
         }
        },
        {
         "name": "surface_area [m^2/g]",
         "dtype": "float64",
         "stats": {
          "unique_count": 8,
          "nan_count": 0,
          "min": "-1.0",
          "max": "68613.0",
          "histogram": [
           {
            "bin_start": -1,
            "bin_end": 6860.4,
            "count": 6
           },
           {
            "bin_start": 6860.4,
            "bin_end": 13721.8,
            "count": 1
           },
           {
            "bin_start": 13721.8,
            "bin_end": 20583.199999999997,
            "count": 0
           },
           {
            "bin_start": 20583.199999999997,
            "bin_end": 27444.6,
            "count": 0
           },
           {
            "bin_start": 27444.6,
            "bin_end": 34306,
            "count": 0
           },
           {
            "bin_start": 34306,
            "bin_end": 41167.399999999994,
            "count": 0
           },
           {
            "bin_start": 41167.399999999994,
            "bin_end": 48028.799999999996,
            "count": 0
           },
           {
            "bin_start": 48028.799999999996,
            "bin_end": 54890.2,
            "count": 0
           },
           {
            "bin_start": 54890.2,
            "bin_end": 61751.6,
            "count": 0
           },
           {
            "bin_start": 61751.6,
            "bin_end": 68613,
            "count": 1
           }
          ]
         }
        },
        {
         "name": "void_fraction",
         "dtype": "float64",
         "stats": {
          "unique_count": 8,
          "nan_count": 0,
          "min": "-1.0",
          "max": "68613.0",
          "histogram": [
           {
            "bin_start": -1,
            "bin_end": 6860.4,
            "count": 7
           },
           {
            "bin_start": 6860.4,
            "bin_end": 13721.8,
            "count": 0
           },
           {
            "bin_start": 13721.8,
            "bin_end": 20583.199999999997,
            "count": 0
           },
           {
            "bin_start": 20583.199999999997,
            "bin_end": 27444.6,
            "count": 0
           },
           {
            "bin_start": 27444.6,
            "bin_end": 34306,
            "count": 0
           },
           {
            "bin_start": 34306,
            "bin_end": 41167.399999999994,
            "count": 0
           },
           {
            "bin_start": 41167.399999999994,
            "bin_end": 48028.799999999996,
            "count": 0
           },
           {
            "bin_start": 48028.799999999996,
            "bin_end": 54890.2,
            "count": 0
           },
           {
            "bin_start": 54890.2,
            "bin_end": 61751.6,
            "count": 0
           },
           {
            "bin_start": 61751.6,
            "bin_end": 68613,
            "count": 1
           }
          ]
         }
        },
        {
         "name": "void_volume [cm^3/g]",
         "dtype": "float64",
         "stats": {
          "unique_count": 8,
          "nan_count": 0,
          "min": "0.0",
          "max": "68613.0",
          "histogram": [
           {
            "bin_start": 0,
            "bin_end": 6861.3,
            "count": 7
           },
           {
            "bin_start": 6861.3,
            "bin_end": 13722.6,
            "count": 0
           },
           {
            "bin_start": 13722.6,
            "bin_end": 20583.9,
            "count": 0
           },
           {
            "bin_start": 20583.9,
            "bin_end": 27445.2,
            "count": 0
           },
           {
            "bin_start": 27445.2,
            "bin_end": 34306.5,
            "count": 0
           },
           {
            "bin_start": 34306.5,
            "bin_end": 41167.8,
            "count": 0
           },
           {
            "bin_start": 41167.8,
            "bin_end": 48029.1,
            "count": 0
           },
           {
            "bin_start": 48029.1,
            "bin_end": 54890.4,
            "count": 0
           },
           {
            "bin_start": 54890.4,
            "bin_end": 61751.700000000004,
            "count": 0
           },
           {
            "bin_start": 61751.700000000004,
            "bin_end": 68613,
            "count": 1
           }
          ]
         }
        },
        {
         "name": "metal_linker",
         "dtype": "float64",
         "stats": {
          "unique_count": 8,
          "nan_count": 0,
          "min": "1.0",
          "max": "68613.0",
          "histogram": [
           {
            "bin_start": 1,
            "bin_end": 6862.2,
            "count": 7
           },
           {
            "bin_start": 6862.2,
            "bin_end": 13723.4,
            "count": 0
           },
           {
            "bin_start": 13723.4,
            "bin_end": 20584.6,
            "count": 0
           },
           {
            "bin_start": 20584.6,
            "bin_end": 27445.8,
            "count": 0
           },
           {
            "bin_start": 27445.8,
            "bin_end": 34307,
            "count": 0
           },
           {
            "bin_start": 34307,
            "bin_end": 41168.2,
            "count": 0
           },
           {
            "bin_start": 41168.2,
            "bin_end": 48029.4,
            "count": 0
           },
           {
            "bin_start": 48029.4,
            "bin_end": 54890.6,
            "count": 0
           },
           {
            "bin_start": 54890.6,
            "bin_end": 61751.799999999996,
            "count": 0
           },
           {
            "bin_start": 61751.799999999996,
            "bin_end": 68613,
            "count": 1
           }
          ]
         }
        },
        {
         "name": "organic_linker1",
         "dtype": "float64",
         "stats": {
          "unique_count": 8,
          "nan_count": 0,
          "min": "1.0",
          "max": "68613.0",
          "histogram": [
           {
            "bin_start": 1,
            "bin_end": 6862.2,
            "count": 7
           },
           {
            "bin_start": 6862.2,
            "bin_end": 13723.4,
            "count": 0
           },
           {
            "bin_start": 13723.4,
            "bin_end": 20584.6,
            "count": 0
           },
           {
            "bin_start": 20584.6,
            "bin_end": 27445.8,
            "count": 0
           },
           {
            "bin_start": 27445.8,
            "bin_end": 34307,
            "count": 0
           },
           {
            "bin_start": 34307,
            "bin_end": 41168.2,
            "count": 0
           },
           {
            "bin_start": 41168.2,
            "bin_end": 48029.4,
            "count": 0
           },
           {
            "bin_start": 48029.4,
            "bin_end": 54890.6,
            "count": 0
           },
           {
            "bin_start": 54890.6,
            "bin_end": 61751.799999999996,
            "count": 0
           },
           {
            "bin_start": 61751.799999999996,
            "bin_end": 68613,
            "count": 1
           }
          ]
         }
        },
        {
         "name": "organic_linker2",
         "dtype": "float64",
         "stats": {
          "unique_count": 8,
          "nan_count": 0,
          "min": "1.0",
          "max": "68613.0",
          "histogram": [
           {
            "bin_start": 1,
            "bin_end": 6862.2,
            "count": 7
           },
           {
            "bin_start": 6862.2,
            "bin_end": 13723.4,
            "count": 0
           },
           {
            "bin_start": 13723.4,
            "bin_end": 20584.6,
            "count": 0
           },
           {
            "bin_start": 20584.6,
            "bin_end": 27445.8,
            "count": 0
           },
           {
            "bin_start": 27445.8,
            "bin_end": 34307,
            "count": 0
           },
           {
            "bin_start": 34307,
            "bin_end": 41168.2,
            "count": 0
           },
           {
            "bin_start": 41168.2,
            "bin_end": 48029.4,
            "count": 0
           },
           {
            "bin_start": 48029.4,
            "bin_end": 54890.6,
            "count": 0
           },
           {
            "bin_start": 54890.6,
            "bin_end": 61751.799999999996,
            "count": 0
           },
           {
            "bin_start": 61751.799999999996,
            "bin_end": 68613,
            "count": 1
           }
          ]
         }
        },
        {
         "name": "CO2/N2_selectivity",
         "dtype": "float64",
         "stats": {
          "unique_count": 8,
          "nan_count": 0,
          "min": "0.0",
          "max": "68613.0",
          "histogram": [
           {
            "bin_start": 0,
            "bin_end": 6861.3,
            "count": 6
           },
           {
            "bin_start": 6861.3,
            "bin_end": 13722.6,
            "count": 0
           },
           {
            "bin_start": 13722.6,
            "bin_end": 20583.9,
            "count": 0
           },
           {
            "bin_start": 20583.9,
            "bin_end": 27445.2,
            "count": 0
           },
           {
            "bin_start": 27445.2,
            "bin_end": 34306.5,
            "count": 1
           },
           {
            "bin_start": 34306.5,
            "bin_end": 41167.8,
            "count": 0
           },
           {
            "bin_start": 41167.8,
            "bin_end": 48029.1,
            "count": 0
           },
           {
            "bin_start": 48029.1,
            "bin_end": 54890.4,
            "count": 0
           },
           {
            "bin_start": 54890.4,
            "bin_end": 61751.700000000004,
            "count": 0
           },
           {
            "bin_start": 61751.700000000004,
            "bin_end": 68613,
            "count": 1
           }
          ]
         }
        },
        {
         "name": "heat_adsorption_CO2_P0.15bar_T298K [kcal/mol]",
         "dtype": "float64",
         "stats": {
          "unique_count": 8,
          "nan_count": 0,
          "min": "1.3842841760764464",
          "max": "66524.0",
          "histogram": [
           {
            "bin_start": 1.3842841760764464,
            "bin_end": 6653.645855758468,
            "count": 7
           },
           {
            "bin_start": 6653.645855758468,
            "bin_end": 13305.90742734086,
            "count": 0
           },
           {
            "bin_start": 13305.90742734086,
            "bin_end": 19958.168998923255,
            "count": 0
           },
           {
            "bin_start": 19958.168998923255,
            "bin_end": 26610.430570505647,
            "count": 0
           },
           {
            "bin_start": 26610.430570505647,
            "bin_end": 33262.69214208804,
            "count": 0
           },
           {
            "bin_start": 33262.69214208804,
            "bin_end": 39914.95371367043,
            "count": 0
           },
           {
            "bin_start": 39914.95371367043,
            "bin_end": 46567.21528525282,
            "count": 0
           },
           {
            "bin_start": 46567.21528525282,
            "bin_end": 53219.476856835216,
            "count": 0
           },
           {
            "bin_start": 53219.476856835216,
            "bin_end": 59871.73842841761,
            "count": 0
           },
           {
            "bin_start": 59871.73842841761,
            "bin_end": 66524,
            "count": 1
           }
          ]
         }
        },
        {
         "name": "CO2_working_capacity [mL/g]",
         "dtype": "float64",
         "stats": {
          "unique_count": 8,
          "nan_count": 0,
          "min": "-44.28574584746623",
          "max": "68613.0",
          "histogram": [
           {
            "bin_start": -44.28574584746623,
            "bin_end": 6821.442828737279,
            "count": 7
           },
           {
            "bin_start": 6821.442828737279,
            "bin_end": 13687.171403322025,
            "count": 0
           },
           {
            "bin_start": 13687.171403322025,
            "bin_end": 20552.89997790677,
            "count": 0
           },
           {
            "bin_start": 20552.89997790677,
            "bin_end": 27418.62855249152,
            "count": 0
           },
           {
            "bin_start": 27418.62855249152,
            "bin_end": 34284.35712707626,
            "count": 0
           },
           {
            "bin_start": 34284.35712707626,
            "bin_end": 41150.085701661,
            "count": 0
           },
           {
            "bin_start": 41150.085701661,
            "bin_end": 48015.81427624575,
            "count": 0
           },
           {
            "bin_start": 48015.81427624575,
            "bin_end": 54881.5428508305,
            "count": 0
           },
           {
            "bin_start": 54881.5428508305,
            "bin_end": 61747.271425415245,
            "count": 0
           },
           {
            "bin_start": 61747.271425415245,
            "bin_end": 68613,
            "count": 1
           }
          ]
         }
        },
        {
         "name": "_deepnote_index_column",
         "dtype": "object"
        }
       ],
       "rows_top": [
        {
         "volume [A^3]": 68613,
         "weight [u]": 68613,
         "surface_area [m^2/g]": 68613,
         "void_fraction": 68613,
         "void_volume [cm^3/g]": 68613,
         "metal_linker": 68613,
         "organic_linker1": 68613,
         "organic_linker2": 68613,
         "CO2/N2_selectivity": 68613,
         "heat_adsorption_CO2_P0.15bar_T298K [kcal/mol]": 66524,
         "CO2_working_capacity [mL/g]": 68613,
         "_deepnote_index_column": "count"
        },
        {
         "volume [A^3]": 3447.3632072204687,
         "weight [u]": 1656.7618582920877,
         "surface_area [m^2/g]": 1666.7666901316077,
         "void_fraction": 0.25916399647297156,
         "void_volume [cm^3/g]": 0.37605215483946186,
         "metal_linker": 4.203270517248918,
         "organic_linker1": 11.919257283605148,
         "organic_linker2": 20.583592030664743,
         "CO2/N2_selectivity": 28.599681259069374,
         "heat_adsorption_CO2_P0.15bar_T298K [kcal/mol]": 6.020647477241296,
         "CO2_working_capacity [mL/g]": 120.00279715582528,
         "_deepnote_index_column": "mean"
        },
        {
         "volume [A^3]": 4840.665781593269,
         "weight [u]": 1259.0863204525162,
         "surface_area [m^2/g]": 1366.3172231578415,
         "void_fraction": 0.16475774557492448,
         "void_volume [cm^3/g]": 0.476451661203303,
         "metal_linker": 3.1449049473471096,
         "organic_linker1": 10.783136178592896,
         "organic_linker2": 10.100869890834506,
         "CO2/N2_selectivity": 153.80688689733458,
         "heat_adsorption_CO2_P0.15bar_T298K [kcal/mol]": 1.3842841760764464,
         "CO2_working_capacity [mL/g]": 89.57311179852928,
         "_deepnote_index_column": "std"
        },
        {
         "volume [A^3]": 606.576038,
         "weight [u]": 439.28122,
         "surface_area [m^2/g]": -1,
         "void_fraction": -1,
         "void_volume [cm^3/g]": 0,
         "metal_linker": 1,
         "organic_linker1": 1,
         "organic_linker2": 1,
         "CO2/N2_selectivity": 0,
         "heat_adsorption_CO2_P0.15bar_T298K [kcal/mol]": 1.612299,
         "CO2_working_capacity [mL/g]": -44.28574584746623,
         "_deepnote_index_column": "min"
        },
        {
         "volume [A^3]": 1556.075767,
         "weight [u]": 893.6626999999999,
         "surface_area [m^2/g]": 511.93,
         "void_fraction": 0.1425799999999999,
         "void_volume [cm^3/g]": 0.1189999999999999,
         "metal_linker": 2,
         "organic_linker1": 4,
         "organic_linker2": 14,
         "CO2/N2_selectivity": 12.81836619,
         "heat_adsorption_CO2_P0.15bar_T298K [kcal/mol]": 5.26747425,
         "CO2_working_capacity [mL/g]": 65.53720541181188,
         "_deepnote_index_column": "25%"
        },
        {
         "volume [A^3]": 2190.442847,
         "weight [u]": 1259.699253,
         "surface_area [m^2/g]": 1542.83,
         "void_fraction": 0.2426199999999998,
         "void_volume [cm^3/g]": 0.2484,
         "metal_linker": 3,
         "organic_linker1": 10,
         "organic_linker2": 20,
         "CO2/N2_selectivity": 19.68988957,
         "heat_adsorption_CO2_P0.15bar_T298K [kcal/mol]": 5.899010499999999,
         "CO2_working_capacity [mL/g]": 98.55218486565961,
         "_deepnote_index_column": "50%"
        },
        {
         "volume [A^3]": 3605.836441,
         "weight [u]": 1897.16366,
         "surface_area [m^2/g]": 2517.96,
         "void_fraction": 0.3451199999999999,
         "void_volume [cm^3/g]": 0.4437999999999999,
         "metal_linker": 4,
         "organic_linker1": 16,
         "organic_linker2": 25,
         "CO2/N2_selectivity": 32.95438839,
         "heat_adsorption_CO2_P0.15bar_T298K [kcal/mol]": 6.7682995,
         "CO2_working_capacity [mL/g]": 163.13953982007973,
         "_deepnote_index_column": "75%"
        },
        {
         "volume [A^3]": 223964.854408,
         "weight [u]": 22595.92896,
         "surface_area [m^2/g]": 7083.53,
         "void_fraction": 0.87206,
         "void_volume [cm^3/g]": 6.6101,
         "metal_linker": 12,
         "organic_linker1": 59,
         "organic_linker2": 59,
         "CO2/N2_selectivity": 29369.77778,
         "heat_adsorption_CO2_P0.15bar_T298K [kcal/mol]": 17.155375,
         "CO2_working_capacity [mL/g]": 736.0616358740374,
         "_deepnote_index_column": "max"
        }
       ],
       "rows_bottom": null
      },
      "text/plain": "        volume [A^3]    weight [u]  surface_area [m^2/g]  void_fraction  \\\ncount   68613.000000  68613.000000          68613.000000   68613.000000   \nmean     3447.363207   1656.761858           1666.766690       0.259164   \nstd      4840.665782   1259.086320           1366.317223       0.164758   \nmin       606.576038    439.281220             -1.000000      -1.000000   \n25%      1556.075767    893.662700            511.930000       0.142580   \n50%      2190.442847   1259.699253           1542.830000       0.242620   \n75%      3605.836441   1897.163660           2517.960000       0.345120   \nmax    223964.854408  22595.928960           7083.530000       0.872060   \n\n       void_volume [cm^3/g]  metal_linker  organic_linker1  organic_linker2  \\\ncount          68613.000000  68613.000000     68613.000000     68613.000000   \nmean               0.376052      4.203271        11.919257        20.583592   \nstd                0.476452      3.144905        10.783136        10.100870   \nmin                0.000000      1.000000         1.000000         1.000000   \n25%                0.119000      2.000000         4.000000        14.000000   \n50%                0.248400      3.000000        10.000000        20.000000   \n75%                0.443800      4.000000        16.000000        25.000000   \nmax                6.610100     12.000000        59.000000        59.000000   \n\n       CO2/N2_selectivity  heat_adsorption_CO2_P0.15bar_T298K [kcal/mol]  \\\ncount        68613.000000                                   66524.000000   \nmean            28.599681                                       6.020647   \nstd            153.806887                                       1.384284   \nmin              0.000000                                       1.612299   \n25%             12.818366                                       5.267474   \n50%             19.689890                                       5.899010   \n75%             32.954388                                       6.768300   \nmax          29369.777780                                      17.155375   \n\n       CO2_working_capacity [mL/g]  \ncount                 68613.000000  \nmean                    120.002797  \nstd                      89.573112  \nmin                     -44.285746  \n25%                      65.537205  \n50%                      98.552185  \n75%                     163.139540  \nmax                     736.061636  ",
      "text/html": "<div>\n<style scoped>\n    .dataframe tbody tr th:only-of-type {\n        vertical-align: middle;\n    }\n\n    .dataframe tbody tr th {\n        vertical-align: top;\n    }\n\n    .dataframe thead th {\n        text-align: right;\n    }\n</style>\n<table border=\"1\" class=\"dataframe\">\n  <thead>\n    <tr style=\"text-align: right;\">\n      <th></th>\n      <th>volume [A^3]</th>\n      <th>weight [u]</th>\n      <th>surface_area [m^2/g]</th>\n      <th>void_fraction</th>\n      <th>void_volume [cm^3/g]</th>\n      <th>metal_linker</th>\n      <th>organic_linker1</th>\n      <th>organic_linker2</th>\n      <th>CO2/N2_selectivity</th>\n      <th>heat_adsorption_CO2_P0.15bar_T298K [kcal/mol]</th>\n      <th>CO2_working_capacity [mL/g]</th>\n    </tr>\n  </thead>\n  <tbody>\n    <tr>\n      <th>count</th>\n      <td>68613.000000</td>\n      <td>68613.000000</td>\n      <td>68613.000000</td>\n      <td>68613.000000</td>\n      <td>68613.000000</td>\n      <td>68613.000000</td>\n      <td>68613.000000</td>\n      <td>68613.000000</td>\n      <td>68613.000000</td>\n      <td>66524.000000</td>\n      <td>68613.000000</td>\n    </tr>\n    <tr>\n      <th>mean</th>\n      <td>3447.363207</td>\n      <td>1656.761858</td>\n      <td>1666.766690</td>\n      <td>0.259164</td>\n      <td>0.376052</td>\n      <td>4.203271</td>\n      <td>11.919257</td>\n      <td>20.583592</td>\n      <td>28.599681</td>\n      <td>6.020647</td>\n      <td>120.002797</td>\n    </tr>\n    <tr>\n      <th>std</th>\n      <td>4840.665782</td>\n      <td>1259.086320</td>\n      <td>1366.317223</td>\n      <td>0.164758</td>\n      <td>0.476452</td>\n      <td>3.144905</td>\n      <td>10.783136</td>\n      <td>10.100870</td>\n      <td>153.806887</td>\n      <td>1.384284</td>\n      <td>89.573112</td>\n    </tr>\n    <tr>\n      <th>min</th>\n      <td>606.576038</td>\n      <td>439.281220</td>\n      <td>-1.000000</td>\n      <td>-1.000000</td>\n      <td>0.000000</td>\n      <td>1.000000</td>\n      <td>1.000000</td>\n      <td>1.000000</td>\n      <td>0.000000</td>\n      <td>1.612299</td>\n      <td>-44.285746</td>\n    </tr>\n    <tr>\n      <th>25%</th>\n      <td>1556.075767</td>\n      <td>893.662700</td>\n      <td>511.930000</td>\n      <td>0.142580</td>\n      <td>0.119000</td>\n      <td>2.000000</td>\n      <td>4.000000</td>\n      <td>14.000000</td>\n      <td>12.818366</td>\n      <td>5.267474</td>\n      <td>65.537205</td>\n    </tr>\n    <tr>\n      <th>50%</th>\n      <td>2190.442847</td>\n      <td>1259.699253</td>\n      <td>1542.830000</td>\n      <td>0.242620</td>\n      <td>0.248400</td>\n      <td>3.000000</td>\n      <td>10.000000</td>\n      <td>20.000000</td>\n      <td>19.689890</td>\n      <td>5.899010</td>\n      <td>98.552185</td>\n    </tr>\n    <tr>\n      <th>75%</th>\n      <td>3605.836441</td>\n      <td>1897.163660</td>\n      <td>2517.960000</td>\n      <td>0.345120</td>\n      <td>0.443800</td>\n      <td>4.000000</td>\n      <td>16.000000</td>\n      <td>25.000000</td>\n      <td>32.954388</td>\n      <td>6.768300</td>\n      <td>163.139540</td>\n    </tr>\n    <tr>\n      <th>max</th>\n      <td>223964.854408</td>\n      <td>22595.928960</td>\n      <td>7083.530000</td>\n      <td>0.872060</td>\n      <td>6.610100</td>\n      <td>12.000000</td>\n      <td>59.000000</td>\n      <td>59.000000</td>\n      <td>29369.777780</td>\n      <td>17.155375</td>\n      <td>736.061636</td>\n    </tr>\n  </tbody>\n</table>\n</div>"
     },
     "metadata": {}
    }
   ]
  },
  {
   "cell_type": "markdown",
   "source": "## Test data",
   "metadata": {
    "tags": [],
    "cell_id": "00006-e21ba170-390c-4126-8ff7-5ec7fc99a0a9",
    "deepnote_cell_type": "markdown"
   }
  },
  {
   "cell_type": "code",
   "metadata": {
    "tags": [],
    "cell_id": "00007-f2c22ac3-9420-4f6d-b682-25ac204027b1",
    "deepnote_to_be_reexecuted": false,
    "source_hash": "476785e4",
    "execution_start": 1631864637372,
    "execution_millis": 24,
    "deepnote_cell_type": "code"
   },
   "source": "test.head()",
   "execution_count": 7,
   "outputs": [
    {
     "output_type": "execute_result",
     "execution_count": 7,
     "data": {
      "application/vnd.deepnote.dataframe.v2+json": {
       "row_count": 5,
       "column_count": 13,
       "columns": [
        {
         "name": "MOFname",
         "dtype": "object",
         "stats": {
          "unique_count": 5,
          "nan_count": 0,
          "categories": [
           {
            "name": "mof_unit_pretest_1",
            "count": 1
           },
           {
            "name": "mof_unit_pretest_2",
            "count": 1
           },
           {
            "name": "3 others",
            "count": 3
           }
          ]
         }
        },
        {
         "name": "volume [A^3]",
         "dtype": "float64",
         "stats": {
          "unique_count": 5,
          "nan_count": 0,
          "min": "705.397601",
          "max": "6288.293858",
          "histogram": [
           {
            "bin_start": 705.397601,
            "bin_end": 1263.6872266999999,
            "count": 1
           },
           {
            "bin_start": 1263.6872266999999,
            "bin_end": 1821.9768524,
            "count": 1
           },
           {
            "bin_start": 1821.9768524,
            "bin_end": 2380.2664781,
            "count": 1
           },
           {
            "bin_start": 2380.2664781,
            "bin_end": 2938.5561038,
            "count": 0
           },
           {
            "bin_start": 2938.5561038,
            "bin_end": 3496.8457295000003,
            "count": 1
           },
           {
            "bin_start": 3496.8457295000003,
            "bin_end": 4055.1353552,
            "count": 0
           },
           {
            "bin_start": 4055.1353552,
            "bin_end": 4613.424980899999,
            "count": 0
           },
           {
            "bin_start": 4613.424980899999,
            "bin_end": 5171.7146066,
            "count": 0
           },
           {
            "bin_start": 5171.7146066,
            "bin_end": 5730.0042323,
            "count": 0
           },
           {
            "bin_start": 5730.0042323,
            "bin_end": 6288.293858,
            "count": 1
           }
          ]
         }
        },
        {
         "name": "weight [u]",
         "dtype": "float64",
         "stats": {
          "unique_count": 5,
          "nan_count": 0,
          "min": "643.27074",
          "max": "2271.68714",
          "histogram": [
           {
            "bin_start": 643.27074,
            "bin_end": 806.11238,
            "count": 1
           },
           {
            "bin_start": 806.11238,
            "bin_end": 968.9540200000001,
            "count": 1
           },
           {
            "bin_start": 968.9540200000001,
            "bin_end": 1131.7956600000002,
            "count": 0
           },
           {
            "bin_start": 1131.7956600000002,
            "bin_end": 1294.6373,
            "count": 2
           },
           {
            "bin_start": 1294.6373,
            "bin_end": 1457.47894,
            "count": 0
           },
           {
            "bin_start": 1457.47894,
            "bin_end": 1620.32058,
            "count": 0
           },
           {
            "bin_start": 1620.32058,
            "bin_end": 1783.1622200000002,
            "count": 0
           },
           {
            "bin_start": 1783.1622200000002,
            "bin_end": 1946.0038600000003,
            "count": 0
           },
           {
            "bin_start": 1946.0038600000003,
            "bin_end": 2108.8455000000004,
            "count": 0
           },
           {
            "bin_start": 2108.8455000000004,
            "bin_end": 2271.68714,
            "count": 1
           }
          ]
         }
        },
        {
         "name": "surface_area [m^2/g]",
         "dtype": "float64",
         "stats": {
          "unique_count": 5,
          "nan_count": 0,
          "min": "0.0",
          "max": "4148.48",
          "histogram": [
           {
            "bin_start": 0,
            "bin_end": 414.84799999999996,
            "count": 1
           },
           {
            "bin_start": 414.84799999999996,
            "bin_end": 829.6959999999999,
            "count": 0
           },
           {
            "bin_start": 829.6959999999999,
            "bin_end": 1244.5439999999999,
            "count": 0
           },
           {
            "bin_start": 1244.5439999999999,
            "bin_end": 1659.3919999999998,
            "count": 0
           },
           {
            "bin_start": 1659.3919999999998,
            "bin_end": 2074.24,
            "count": 1
           },
           {
            "bin_start": 2074.24,
            "bin_end": 2489.0879999999997,
            "count": 1
           },
           {
            "bin_start": 2489.0879999999997,
            "bin_end": 2903.9359999999997,
            "count": 0
           },
           {
            "bin_start": 2903.9359999999997,
            "bin_end": 3318.7839999999997,
            "count": 0
           },
           {
            "bin_start": 3318.7839999999997,
            "bin_end": 3733.6319999999996,
            "count": 1
           },
           {
            "bin_start": 3733.6319999999996,
            "bin_end": 4148.48,
            "count": 1
           }
          ]
         }
        },
        {
         "name": "void_fraction",
         "dtype": "float64",
         "stats": {
          "unique_count": 5,
          "nan_count": 0,
          "min": "0.0705999999999999",
          "max": "0.41963",
          "histogram": [
           {
            "bin_start": 0.0705999999999999,
            "bin_end": 0.1055029999999999,
            "count": 1
           },
           {
            "bin_start": 0.1055029999999999,
            "bin_end": 0.14040599999999992,
            "count": 0
           },
           {
            "bin_start": 0.14040599999999992,
            "bin_end": 0.17530899999999994,
            "count": 0
           },
           {
            "bin_start": 0.17530899999999994,
            "bin_end": 0.21021199999999995,
            "count": 0
           },
           {
            "bin_start": 0.21021199999999995,
            "bin_end": 0.24511499999999997,
            "count": 0
           },
           {
            "bin_start": 0.24511499999999997,
            "bin_end": 0.28001799999999993,
            "count": 0
           },
           {
            "bin_start": 0.28001799999999993,
            "bin_end": 0.31492099999999995,
            "count": 2
           },
           {
            "bin_start": 0.31492099999999995,
            "bin_end": 0.34982399999999997,
            "count": 0
           },
           {
            "bin_start": 0.34982399999999997,
            "bin_end": 0.384727,
            "count": 0
           },
           {
            "bin_start": 0.384727,
            "bin_end": 0.41963,
            "count": 2
           }
          ]
         }
        },
        {
         "name": "void_volume [cm^3/g]",
         "dtype": "float64",
         "stats": {
          "unique_count": 5,
          "nan_count": 0,
          "min": "0.0466",
          "max": "0.6872",
          "histogram": [
           {
            "bin_start": 0.0466,
            "bin_end": 0.11066000000000001,
            "count": 1
           },
           {
            "bin_start": 0.11066000000000001,
            "bin_end": 0.17472000000000001,
            "count": 0
           },
           {
            "bin_start": 0.17472000000000001,
            "bin_end": 0.23878000000000002,
            "count": 0
           },
           {
            "bin_start": 0.23878000000000002,
            "bin_end": 0.30284,
            "count": 0
           },
           {
            "bin_start": 0.30284,
            "bin_end": 0.3669,
            "count": 1
           },
           {
            "bin_start": 0.3669,
            "bin_end": 0.43096,
            "count": 1
           },
           {
            "bin_start": 0.43096,
            "bin_end": 0.49502,
            "count": 0
           },
           {
            "bin_start": 0.49502,
            "bin_end": 0.55908,
            "count": 0
           },
           {
            "bin_start": 0.55908,
            "bin_end": 0.62314,
            "count": 0
           },
           {
            "bin_start": 0.62314,
            "bin_end": 0.6872,
            "count": 2
           }
          ]
         }
        },
        {
         "name": "functional_groups",
         "dtype": "object",
         "stats": {
          "unique_count": 5,
          "nan_count": 0,
          "categories": [
           {
            "name": "OPr",
            "count": 1
           },
           {
            "name": "HCO-OPr",
            "count": 1
           },
           {
            "name": "3 others",
            "count": 3
           }
          ]
         }
        },
        {
         "name": "metal_linker",
         "dtype": "int64",
         "stats": {
          "unique_count": 3,
          "nan_count": 0,
          "min": "2",
          "max": "4",
          "histogram": [
           {
            "bin_start": 2,
            "bin_end": 2.2,
            "count": 2
           },
           {
            "bin_start": 2.2,
            "bin_end": 2.4,
            "count": 0
           },
           {
            "bin_start": 2.4,
            "bin_end": 2.6,
            "count": 0
           },
           {
            "bin_start": 2.6,
            "bin_end": 2.8,
            "count": 0
           },
           {
            "bin_start": 2.8,
            "bin_end": 3,
            "count": 0
           },
           {
            "bin_start": 3,
            "bin_end": 3.2,
            "count": 2
           },
           {
            "bin_start": 3.2,
            "bin_end": 3.4000000000000004,
            "count": 0
           },
           {
            "bin_start": 3.4000000000000004,
            "bin_end": 3.6,
            "count": 0
           },
           {
            "bin_start": 3.6,
            "bin_end": 3.8,
            "count": 0
           },
           {
            "bin_start": 3.8,
            "bin_end": 4,
            "count": 1
           }
          ]
         }
        },
        {
         "name": "organic_linker1",
         "dtype": "int64",
         "stats": {
          "unique_count": 5,
          "nan_count": 0,
          "min": "4",
          "max": "18",
          "histogram": [
           {
            "bin_start": 4,
            "bin_end": 5.4,
            "count": 1
           },
           {
            "bin_start": 5.4,
            "bin_end": 6.8,
            "count": 0
           },
           {
            "bin_start": 6.8,
            "bin_end": 8.2,
            "count": 2
           },
           {
            "bin_start": 8.2,
            "bin_end": 9.6,
            "count": 0
           },
           {
            "bin_start": 9.6,
            "bin_end": 11,
            "count": 1
           },
           {
            "bin_start": 11,
            "bin_end": 12.399999999999999,
            "count": 0
           },
           {
            "bin_start": 12.399999999999999,
            "bin_end": 13.799999999999999,
            "count": 0
           },
           {
            "bin_start": 13.799999999999999,
            "bin_end": 15.2,
            "count": 0
           },
           {
            "bin_start": 15.2,
            "bin_end": 16.6,
            "count": 0
           },
           {
            "bin_start": 16.6,
            "bin_end": 18,
            "count": 1
           }
          ]
         }
        },
        {
         "name": "organic_linker2",
         "dtype": "int64",
         "stats": {
          "unique_count": 4,
          "nan_count": 0,
          "min": "15",
          "max": "27",
          "histogram": [
           {
            "bin_start": 15,
            "bin_end": 16.2,
            "count": 1
           },
           {
            "bin_start": 16.2,
            "bin_end": 17.4,
            "count": 0
           },
           {
            "bin_start": 17.4,
            "bin_end": 18.6,
            "count": 0
           },
           {
            "bin_start": 18.6,
            "bin_end": 19.8,
            "count": 0
           },
           {
            "bin_start": 19.8,
            "bin_end": 21,
            "count": 0
           },
           {
            "bin_start": 21,
            "bin_end": 22.2,
            "count": 2
           },
           {
            "bin_start": 22.2,
            "bin_end": 23.4,
            "count": 0
           },
           {
            "bin_start": 23.4,
            "bin_end": 24.6,
            "count": 0
           },
           {
            "bin_start": 24.6,
            "bin_end": 25.799999999999997,
            "count": 0
           },
           {
            "bin_start": 25.799999999999997,
            "bin_end": 27,
            "count": 2
           }
          ]
         }
        },
        {
         "name": "topology",
         "dtype": "object",
         "stats": {
          "unique_count": 2,
          "nan_count": 0,
          "categories": [
           {
            "name": "pcu",
            "count": 4
           },
           {
            "name": "acs",
            "count": 1
           }
          ]
         }
        },
        {
         "name": "CO2/N2_selectivity",
         "dtype": "float64",
         "stats": {
          "unique_count": 5,
          "nan_count": 0,
          "min": "12.80056168",
          "max": "33.10866151",
          "histogram": [
           {
            "bin_start": 12.80056168,
            "bin_end": 14.831371662999999,
            "count": 2
           },
           {
            "bin_start": 14.831371662999999,
            "bin_end": 16.862181646,
            "count": 0
           },
           {
            "bin_start": 16.862181646,
            "bin_end": 18.892991629,
            "count": 0
           },
           {
            "bin_start": 18.892991629,
            "bin_end": 20.923801612,
            "count": 1
           },
           {
            "bin_start": 20.923801612,
            "bin_end": 22.954611594999996,
            "count": 0
           },
           {
            "bin_start": 22.954611594999996,
            "bin_end": 24.985421578,
            "count": 1
           },
           {
            "bin_start": 24.985421578,
            "bin_end": 27.016231560999998,
            "count": 0
           },
           {
            "bin_start": 27.016231560999998,
            "bin_end": 29.047041543999995,
            "count": 0
           },
           {
            "bin_start": 29.047041543999995,
            "bin_end": 31.077851527,
            "count": 0
           },
           {
            "bin_start": 31.077851527,
            "bin_end": 33.10866151,
            "count": 1
           }
          ]
         }
        },
        {
         "name": "heat_adsorption_CO2_P0.15bar_T298K [kcal/mol]",
         "dtype": "float64",
         "stats": {
          "unique_count": 5,
          "nan_count": 0,
          "min": "5.164957",
          "max": "7.090687",
          "histogram": [
           {
            "bin_start": 5.164957,
            "bin_end": 5.357530000000001,
            "count": 1
           },
           {
            "bin_start": 5.357530000000001,
            "bin_end": 5.550103,
            "count": 0
           },
           {
            "bin_start": 5.550103,
            "bin_end": 5.742676,
            "count": 1
           },
           {
            "bin_start": 5.742676,
            "bin_end": 5.935249,
            "count": 0
           },
           {
            "bin_start": 5.935249,
            "bin_end": 6.127822,
            "count": 0
           },
           {
            "bin_start": 6.127822,
            "bin_end": 6.3203949999999995,
            "count": 2
           },
           {
            "bin_start": 6.3203949999999995,
            "bin_end": 6.512968,
            "count": 0
           },
           {
            "bin_start": 6.512968,
            "bin_end": 6.705541,
            "count": 0
           },
           {
            "bin_start": 6.705541,
            "bin_end": 6.898114,
            "count": 0
           },
           {
            "bin_start": 6.898114,
            "bin_end": 7.090687,
            "count": 1
           }
          ]
         }
        },
        {
         "name": "_deepnote_index_column",
         "dtype": "int64"
        }
       ],
       "rows_top": [
        {
         "MOFname": "mof_unit_pretest_1",
         "volume [A^3]": 6288.293858,
         "weight [u]": 2271.68714,
         "surface_area [m^2/g]": 4148.48,
         "void_fraction": 0.41225,
         "void_volume [cm^3/g]": 0.6872,
         "functional_groups": "OPr",
         "metal_linker": 4,
         "organic_linker1": 7,
         "organic_linker2": 27,
         "topology": "acs",
         "CO2/N2_selectivity": 14.04879074,
         "heat_adsorption_CO2_P0.15bar_T298K [kcal/mol]": 5.604779,
         "_deepnote_index_column": 0
        },
        {
         "MOFname": "mof_unit_pretest_2",
         "volume [A^3]": 1790.506437,
         "weight [u]": 887.7473199999998,
         "surface_area [m^2/g]": 2191.34,
         "void_fraction": 0.3023099999999999,
         "void_volume [cm^3/g]": 0.3672,
         "functional_groups": "HCO-OPr",
         "metal_linker": 2,
         "organic_linker1": 4,
         "organic_linker2": 26,
         "topology": "pcu",
         "CO2/N2_selectivity": 20.21722169,
         "heat_adsorption_CO2_P0.15bar_T298K [kcal/mol]": 6.148776,
         "_deepnote_index_column": 1
        },
        {
         "MOFname": "mof_unit_pretest_3",
         "volume [A^3]": 2348.969203,
         "weight [u]": 1239.7658800000002,
         "surface_area [m^2/g]": 2030.88,
         "void_fraction": 0.2853299999999999,
         "void_volume [cm^3/g]": 0.3256,
         "functional_groups": "SO3H-OH",
         "metal_linker": 3,
         "organic_linker1": 18,
         "organic_linker2": 22,
         "topology": "pcu",
         "CO2/N2_selectivity": 33.10866151,
         "heat_adsorption_CO2_P0.15bar_T298K [kcal/mol]": 6.164397,
         "_deepnote_index_column": 2
        },
        {
         "MOFname": "mof_unit_pretest_4",
         "volume [A^3]": 2941.571525,
         "weight [u]": 1147.9514,
         "surface_area [m^2/g]": 3587.13,
         "void_fraction": 0.41963,
         "void_volume [cm^3/g]": 0.6474999999999999,
         "functional_groups": "Et-OH",
         "metal_linker": 2,
         "organic_linker1": 8,
         "organic_linker2": 15,
         "topology": "pcu",
         "CO2/N2_selectivity": 12.80056168,
         "heat_adsorption_CO2_P0.15bar_T298K [kcal/mol]": 5.164957,
         "_deepnote_index_column": 3
        },
        {
         "MOFname": "mof_unit_pretest_5",
         "volume [A^3]": 705.397601,
         "weight [u]": 643.27074,
         "surface_area [m^2/g]": 0,
         "void_fraction": 0.0705999999999999,
         "void_volume [cm^3/g]": 0.0466,
         "functional_groups": "Cl-H",
         "metal_linker": 3,
         "organic_linker1": 10,
         "organic_linker2": 22,
         "topology": "pcu",
         "CO2/N2_selectivity": 23.39561652,
         "heat_adsorption_CO2_P0.15bar_T298K [kcal/mol]": 7.090687,
         "_deepnote_index_column": 4
        }
       ],
       "rows_bottom": null
      },
      "text/plain": "              MOFname  volume [A^3]  weight [u]  surface_area [m^2/g]  \\\n0  mof_unit_pretest_1   6288.293858  2271.68714               4148.48   \n1  mof_unit_pretest_2   1790.506437   887.74732               2191.34   \n2  mof_unit_pretest_3   2348.969203  1239.76588               2030.88   \n3  mof_unit_pretest_4   2941.571525  1147.95140               3587.13   \n4  mof_unit_pretest_5    705.397601   643.27074                  0.00   \n\n   void_fraction  void_volume [cm^3/g] functional_groups  metal_linker  \\\n0        0.41225                0.6872               OPr             4   \n1        0.30231                0.3672           HCO-OPr             2   \n2        0.28533                0.3256           SO3H-OH             3   \n3        0.41963                0.6475             Et-OH             2   \n4        0.07060                0.0466              Cl-H             3   \n\n   organic_linker1  organic_linker2 topology  CO2/N2_selectivity  \\\n0                7               27      acs           14.048791   \n1                4               26      pcu           20.217222   \n2               18               22      pcu           33.108662   \n3                8               15      pcu           12.800562   \n4               10               22      pcu           23.395617   \n\n   heat_adsorption_CO2_P0.15bar_T298K [kcal/mol]  \n0                                       5.604779  \n1                                       6.148776  \n2                                       6.164397  \n3                                       5.164957  \n4                                       7.090687  ",
      "text/html": "<div>\n<style scoped>\n    .dataframe tbody tr th:only-of-type {\n        vertical-align: middle;\n    }\n\n    .dataframe tbody tr th {\n        vertical-align: top;\n    }\n\n    .dataframe thead th {\n        text-align: right;\n    }\n</style>\n<table border=\"1\" class=\"dataframe\">\n  <thead>\n    <tr style=\"text-align: right;\">\n      <th></th>\n      <th>MOFname</th>\n      <th>volume [A^3]</th>\n      <th>weight [u]</th>\n      <th>surface_area [m^2/g]</th>\n      <th>void_fraction</th>\n      <th>void_volume [cm^3/g]</th>\n      <th>functional_groups</th>\n      <th>metal_linker</th>\n      <th>organic_linker1</th>\n      <th>organic_linker2</th>\n      <th>topology</th>\n      <th>CO2/N2_selectivity</th>\n      <th>heat_adsorption_CO2_P0.15bar_T298K [kcal/mol]</th>\n    </tr>\n  </thead>\n  <tbody>\n    <tr>\n      <th>0</th>\n      <td>mof_unit_pretest_1</td>\n      <td>6288.293858</td>\n      <td>2271.68714</td>\n      <td>4148.48</td>\n      <td>0.41225</td>\n      <td>0.6872</td>\n      <td>OPr</td>\n      <td>4</td>\n      <td>7</td>\n      <td>27</td>\n      <td>acs</td>\n      <td>14.048791</td>\n      <td>5.604779</td>\n    </tr>\n    <tr>\n      <th>1</th>\n      <td>mof_unit_pretest_2</td>\n      <td>1790.506437</td>\n      <td>887.74732</td>\n      <td>2191.34</td>\n      <td>0.30231</td>\n      <td>0.3672</td>\n      <td>HCO-OPr</td>\n      <td>2</td>\n      <td>4</td>\n      <td>26</td>\n      <td>pcu</td>\n      <td>20.217222</td>\n      <td>6.148776</td>\n    </tr>\n    <tr>\n      <th>2</th>\n      <td>mof_unit_pretest_3</td>\n      <td>2348.969203</td>\n      <td>1239.76588</td>\n      <td>2030.88</td>\n      <td>0.28533</td>\n      <td>0.3256</td>\n      <td>SO3H-OH</td>\n      <td>3</td>\n      <td>18</td>\n      <td>22</td>\n      <td>pcu</td>\n      <td>33.108662</td>\n      <td>6.164397</td>\n    </tr>\n    <tr>\n      <th>3</th>\n      <td>mof_unit_pretest_4</td>\n      <td>2941.571525</td>\n      <td>1147.95140</td>\n      <td>3587.13</td>\n      <td>0.41963</td>\n      <td>0.6475</td>\n      <td>Et-OH</td>\n      <td>2</td>\n      <td>8</td>\n      <td>15</td>\n      <td>pcu</td>\n      <td>12.800562</td>\n      <td>5.164957</td>\n    </tr>\n    <tr>\n      <th>4</th>\n      <td>mof_unit_pretest_5</td>\n      <td>705.397601</td>\n      <td>643.27074</td>\n      <td>0.00</td>\n      <td>0.07060</td>\n      <td>0.0466</td>\n      <td>Cl-H</td>\n      <td>3</td>\n      <td>10</td>\n      <td>22</td>\n      <td>pcu</td>\n      <td>23.395617</td>\n      <td>7.090687</td>\n    </tr>\n  </tbody>\n</table>\n</div>"
     },
     "metadata": {}
    }
   ]
  },
  {
   "cell_type": "code",
   "metadata": {
    "tags": [],
    "cell_id": "00008-daad4a7f-4463-476d-aeed-267c1f550aee",
    "deepnote_to_be_reexecuted": false,
    "source_hash": "8005d790",
    "execution_start": 1631864637435,
    "execution_millis": 4,
    "deepnote_cell_type": "code"
   },
   "source": "test.replace([np.inf, -np.inf], np.nan, inplace=True)\nprint(\"Test data: {} rows, {} columns, {} missing values\".format(test.shape[0], test.shape[1], sum(test.isna().sum())))",
   "execution_count": 8,
   "outputs": [
    {
     "name": "stdout",
     "text": "Test data: 2000 rows, 13 columns, 21 missing values\n",
     "output_type": "stream"
    }
   ]
  },
  {
   "cell_type": "code",
   "metadata": {
    "tags": [],
    "cell_id": "00009-36589b58-3f0d-4d84-a4bd-e080b22852ea",
    "deepnote_to_be_reexecuted": false,
    "source_hash": "9782bf47",
    "execution_start": 1631864637436,
    "execution_millis": 62,
    "deepnote_cell_type": "code"
   },
   "source": "test.describe()",
   "execution_count": 9,
   "outputs": [
    {
     "output_type": "execute_result",
     "execution_count": 9,
     "data": {
      "application/vnd.deepnote.dataframe.v2+json": {
       "row_count": 8,
       "column_count": 10,
       "columns": [
        {
         "name": "volume [A^3]",
         "dtype": "float64",
         "stats": {
          "unique_count": 8,
          "nan_count": 0,
          "min": "670.112177",
          "max": "80465.312439",
          "histogram": [
           {
            "bin_start": 670.112177,
            "bin_end": 8649.632203199999,
            "count": 7
           },
           {
            "bin_start": 8649.632203199999,
            "bin_end": 16629.1522294,
            "count": 0
           },
           {
            "bin_start": 16629.1522294,
            "bin_end": 24608.6722556,
            "count": 0
           },
           {
            "bin_start": 24608.6722556,
            "bin_end": 32588.1922818,
            "count": 0
           },
           {
            "bin_start": 32588.1922818,
            "bin_end": 40567.712308,
            "count": 0
           },
           {
            "bin_start": 40567.712308,
            "bin_end": 48547.2323342,
            "count": 0
           },
           {
            "bin_start": 48547.2323342,
            "bin_end": 56526.7523604,
            "count": 0
           },
           {
            "bin_start": 56526.7523604,
            "bin_end": 64506.2723866,
            "count": 0
           },
           {
            "bin_start": 64506.2723866,
            "bin_end": 72485.7924128,
            "count": 0
           },
           {
            "bin_start": 72485.7924128,
            "bin_end": 80465.312439,
            "count": 1
           }
          ]
         }
        },
        {
         "name": "weight [u]",
         "dtype": "float64",
         "stats": {
          "unique_count": 8,
          "nan_count": 0,
          "min": "467.01368",
          "max": "16731.4848",
          "histogram": [
           {
            "bin_start": 467.01368,
            "bin_end": 2093.460792,
            "count": 6
           },
           {
            "bin_start": 2093.460792,
            "bin_end": 3719.9079039999997,
            "count": 1
           },
           {
            "bin_start": 3719.9079039999997,
            "bin_end": 5346.3550159999995,
            "count": 0
           },
           {
            "bin_start": 5346.3550159999995,
            "bin_end": 6972.802127999999,
            "count": 0
           },
           {
            "bin_start": 6972.802127999999,
            "bin_end": 8599.24924,
            "count": 0
           },
           {
            "bin_start": 8599.24924,
            "bin_end": 10225.696351999999,
            "count": 0
           },
           {
            "bin_start": 10225.696351999999,
            "bin_end": 11852.143463999999,
            "count": 0
           },
           {
            "bin_start": 11852.143463999999,
            "bin_end": 13478.590575999999,
            "count": 0
           },
           {
            "bin_start": 13478.590575999999,
            "bin_end": 15105.037687999999,
            "count": 0
           },
           {
            "bin_start": 15105.037687999999,
            "bin_end": 16731.4848,
            "count": 1
           }
          ]
         }
        },
        {
         "name": "surface_area [m^2/g]",
         "dtype": "float64",
         "stats": {
          "unique_count": 8,
          "nan_count": 0,
          "min": "0.0",
          "max": "6685.94",
          "histogram": [
           {
            "bin_start": 0,
            "bin_end": 668.5939999999999,
            "count": 1
           },
           {
            "bin_start": 668.5939999999999,
            "bin_end": 1337.1879999999999,
            "count": 1
           },
           {
            "bin_start": 1337.1879999999999,
            "bin_end": 2005.7819999999997,
            "count": 3
           },
           {
            "bin_start": 2005.7819999999997,
            "bin_end": 2674.3759999999997,
            "count": 1
           },
           {
            "bin_start": 2674.3759999999997,
            "bin_end": 3342.97,
            "count": 1
           },
           {
            "bin_start": 3342.97,
            "bin_end": 4011.5639999999994,
            "count": 0
           },
           {
            "bin_start": 4011.5639999999994,
            "bin_end": 4680.157999999999,
            "count": 0
           },
           {
            "bin_start": 4680.157999999999,
            "bin_end": 5348.7519999999995,
            "count": 0
           },
           {
            "bin_start": 5348.7519999999995,
            "bin_end": 6017.346,
            "count": 0
           },
           {
            "bin_start": 6017.346,
            "bin_end": 6685.94,
            "count": 1
           }
          ]
         }
        },
        {
         "name": "void_fraction",
         "dtype": "float64",
         "stats": {
          "unique_count": 8,
          "nan_count": 0,
          "min": "0.0",
          "max": "2000.0",
          "histogram": [
           {
            "bin_start": 0,
            "bin_end": 200,
            "count": 7
           },
           {
            "bin_start": 200,
            "bin_end": 400,
            "count": 0
           },
           {
            "bin_start": 400,
            "bin_end": 600,
            "count": 0
           },
           {
            "bin_start": 600,
            "bin_end": 800,
            "count": 0
           },
           {
            "bin_start": 800,
            "bin_end": 1000,
            "count": 0
           },
           {
            "bin_start": 1000,
            "bin_end": 1200,
            "count": 0
           },
           {
            "bin_start": 1200,
            "bin_end": 1400,
            "count": 0
           },
           {
            "bin_start": 1400,
            "bin_end": 1600,
            "count": 0
           },
           {
            "bin_start": 1600,
            "bin_end": 1800,
            "count": 0
           },
           {
            "bin_start": 1800,
            "bin_end": 2000,
            "count": 1
           }
          ]
         }
        },
        {
         "name": "void_volume [cm^3/g]",
         "dtype": "float64",
         "stats": {
          "unique_count": 8,
          "nan_count": 0,
          "min": "0.0",
          "max": "2000.0",
          "histogram": [
           {
            "bin_start": 0,
            "bin_end": 200,
            "count": 7
           },
           {
            "bin_start": 200,
            "bin_end": 400,
            "count": 0
           },
           {
            "bin_start": 400,
            "bin_end": 600,
            "count": 0
           },
           {
            "bin_start": 600,
            "bin_end": 800,
            "count": 0
           },
           {
            "bin_start": 800,
            "bin_end": 1000,
            "count": 0
           },
           {
            "bin_start": 1000,
            "bin_end": 1200,
            "count": 0
           },
           {
            "bin_start": 1200,
            "bin_end": 1400,
            "count": 0
           },
           {
            "bin_start": 1400,
            "bin_end": 1600,
            "count": 0
           },
           {
            "bin_start": 1600,
            "bin_end": 1800,
            "count": 0
           },
           {
            "bin_start": 1800,
            "bin_end": 2000,
            "count": 1
           }
          ]
         }
        },
        {
         "name": "metal_linker",
         "dtype": "float64",
         "stats": {
          "unique_count": 8,
          "nan_count": 0,
          "min": "1.0",
          "max": "2000.0",
          "histogram": [
           {
            "bin_start": 1,
            "bin_end": 200.9,
            "count": 7
           },
           {
            "bin_start": 200.9,
            "bin_end": 400.8,
            "count": 0
           },
           {
            "bin_start": 400.8,
            "bin_end": 600.7,
            "count": 0
           },
           {
            "bin_start": 600.7,
            "bin_end": 800.6,
            "count": 0
           },
           {
            "bin_start": 800.6,
            "bin_end": 1000.5,
            "count": 0
           },
           {
            "bin_start": 1000.5,
            "bin_end": 1200.4,
            "count": 0
           },
           {
            "bin_start": 1200.4,
            "bin_end": 1400.3,
            "count": 0
           },
           {
            "bin_start": 1400.3,
            "bin_end": 1600.2,
            "count": 0
           },
           {
            "bin_start": 1600.2,
            "bin_end": 1800.1000000000001,
            "count": 0
           },
           {
            "bin_start": 1800.1000000000001,
            "bin_end": 2000,
            "count": 1
           }
          ]
         }
        },
        {
         "name": "organic_linker1",
         "dtype": "float64",
         "stats": {
          "unique_count": 8,
          "nan_count": 0,
          "min": "1.0",
          "max": "2000.0",
          "histogram": [
           {
            "bin_start": 1,
            "bin_end": 200.9,
            "count": 7
           },
           {
            "bin_start": 200.9,
            "bin_end": 400.8,
            "count": 0
           },
           {
            "bin_start": 400.8,
            "bin_end": 600.7,
            "count": 0
           },
           {
            "bin_start": 600.7,
            "bin_end": 800.6,
            "count": 0
           },
           {
            "bin_start": 800.6,
            "bin_end": 1000.5,
            "count": 0
           },
           {
            "bin_start": 1000.5,
            "bin_end": 1200.4,
            "count": 0
           },
           {
            "bin_start": 1200.4,
            "bin_end": 1400.3,
            "count": 0
           },
           {
            "bin_start": 1400.3,
            "bin_end": 1600.2,
            "count": 0
           },
           {
            "bin_start": 1600.2,
            "bin_end": 1800.1000000000001,
            "count": 0
           },
           {
            "bin_start": 1800.1000000000001,
            "bin_end": 2000,
            "count": 1
           }
          ]
         }
        },
        {
         "name": "organic_linker2",
         "dtype": "float64",
         "stats": {
          "unique_count": 8,
          "nan_count": 0,
          "min": "1.0",
          "max": "2000.0",
          "histogram": [
           {
            "bin_start": 1,
            "bin_end": 200.9,
            "count": 7
           },
           {
            "bin_start": 200.9,
            "bin_end": 400.8,
            "count": 0
           },
           {
            "bin_start": 400.8,
            "bin_end": 600.7,
            "count": 0
           },
           {
            "bin_start": 600.7,
            "bin_end": 800.6,
            "count": 0
           },
           {
            "bin_start": 800.6,
            "bin_end": 1000.5,
            "count": 0
           },
           {
            "bin_start": 1000.5,
            "bin_end": 1200.4,
            "count": 0
           },
           {
            "bin_start": 1200.4,
            "bin_end": 1400.3,
            "count": 0
           },
           {
            "bin_start": 1400.3,
            "bin_end": 1600.2,
            "count": 0
           },
           {
            "bin_start": 1600.2,
            "bin_end": 1800.1000000000001,
            "count": 0
           },
           {
            "bin_start": 1800.1000000000001,
            "bin_end": 2000,
            "count": 1
           }
          ]
         }
        },
        {
         "name": "CO2/N2_selectivity",
         "dtype": "float64",
         "stats": {
          "unique_count": 8,
          "nan_count": 0,
          "min": "2.28261165",
          "max": "2000.0",
          "histogram": [
           {
            "bin_start": 2.28261165,
            "bin_end": 202.05435048500001,
            "count": 6
           },
           {
            "bin_start": 202.05435048500001,
            "bin_end": 401.82608932,
            "count": 0
           },
           {
            "bin_start": 401.82608932,
            "bin_end": 601.5978281550001,
            "count": 1
           },
           {
            "bin_start": 601.5978281550001,
            "bin_end": 801.3695669900001,
            "count": 0
           },
           {
            "bin_start": 801.3695669900001,
            "bin_end": 1001.141305825,
            "count": 0
           },
           {
            "bin_start": 1001.141305825,
            "bin_end": 1200.9130446600002,
            "count": 0
           },
           {
            "bin_start": 1200.9130446600002,
            "bin_end": 1400.6847834950001,
            "count": 0
           },
           {
            "bin_start": 1400.6847834950001,
            "bin_end": 1600.45652233,
            "count": 0
           },
           {
            "bin_start": 1600.45652233,
            "bin_end": 1800.228261165,
            "count": 0
           },
           {
            "bin_start": 1800.228261165,
            "bin_end": 2000,
            "count": 1
           }
          ]
         }
        },
        {
         "name": "heat_adsorption_CO2_P0.15bar_T298K [kcal/mol]",
         "dtype": "float64",
         "stats": {
          "unique_count": 8,
          "nan_count": 0,
          "min": "1.572049151168821",
          "max": "2000.0",
          "histogram": [
           {
            "bin_start": 1.572049151168821,
            "bin_end": 201.41484423605192,
            "count": 7
           },
           {
            "bin_start": 201.41484423605192,
            "bin_end": 401.257639320935,
            "count": 0
           },
           {
            "bin_start": 401.257639320935,
            "bin_end": 601.1004344058181,
            "count": 0
           },
           {
            "bin_start": 601.1004344058181,
            "bin_end": 800.9432294907012,
            "count": 0
           },
           {
            "bin_start": 800.9432294907012,
            "bin_end": 1000.7860245755844,
            "count": 0
           },
           {
            "bin_start": 1000.7860245755844,
            "bin_end": 1200.6288196604673,
            "count": 0
           },
           {
            "bin_start": 1200.6288196604673,
            "bin_end": 1400.4716147453505,
            "count": 0
           },
           {
            "bin_start": 1400.4716147453505,
            "bin_end": 1600.3144098302337,
            "count": 0
           },
           {
            "bin_start": 1600.3144098302337,
            "bin_end": 1800.1572049151168,
            "count": 0
           },
           {
            "bin_start": 1800.1572049151168,
            "bin_end": 2000,
            "count": 1
           }
          ]
         }
        },
        {
         "name": "_deepnote_index_column",
         "dtype": "object"
        }
       ],
       "rows_top": [
        {
         "volume [A^3]": 2000,
         "weight [u]": 2000,
         "surface_area [m^2/g]": 2000,
         "void_fraction": 2000,
         "void_volume [cm^3/g]": 2000,
         "metal_linker": 2000,
         "organic_linker1": 2000,
         "organic_linker2": 2000,
         "CO2/N2_selectivity": 2000,
         "heat_adsorption_CO2_P0.15bar_T298K [kcal/mol]": 2000,
         "_deepnote_index_column": "count"
        },
        {
         "volume [A^3]": 5011.1805581305,
         "weight [u]": 1896.4484356364999,
         "surface_area [m^2/g]": 2133.74611,
         "void_fraction": 0.324053765,
         "void_volume [cm^3/g]": 0.5643167499999999,
         "metal_linker": 3.9975,
         "organic_linker1": 11.3965,
         "organic_linker2": 20.3345,
         "CO2/N2_selectivity": 23.307844822531,
         "heat_adsorption_CO2_P0.15bar_T298K [kcal/mol]": 5.577378267,
         "_deepnote_index_column": "mean"
        },
        {
         "volume [A^3]": 7312.75814186946,
         "weight [u]": 1582.5978252794064,
         "surface_area [m^2/g]": 1572.311903636052,
         "void_fraction": 0.19228356305593444,
         "void_volume [cm^3/g]": 0.6799977028875934,
         "metal_linker": 3.077861329751974,
         "organic_linker1": 10.22343127445535,
         "organic_linker2": 9.746748652994615,
         "CO2/N2_selectivity": 23.92910225794494,
         "heat_adsorption_CO2_P0.15bar_T298K [kcal/mol]": 1.572049151168821,
         "_deepnote_index_column": "std"
        },
        {
         "volume [A^3]": 670.112177,
         "weight [u]": 467.01368,
         "surface_area [m^2/g]": 0,
         "void_fraction": 0,
         "void_volume [cm^3/g]": 0,
         "metal_linker": 1,
         "organic_linker1": 1,
         "organic_linker2": 1,
         "CO2/N2_selectivity": 2.28261165,
         "heat_adsorption_CO2_P0.15bar_T298K [kcal/mol]": 1.7565849999999998,
         "_deepnote_index_column": "min"
        },
        {
         "volume [A^3]": 1644.506152,
         "weight [u]": 919.679909,
         "surface_area [m^2/g]": 895.8374999999999,
         "void_fraction": 0.17572500000000002,
         "void_volume [cm^3/g]": 0.156375,
         "metal_linker": 2,
         "organic_linker1": 4,
         "organic_linker2": 14,
         "CO2/N2_selectivity": 8.87762167175,
         "heat_adsorption_CO2_P0.15bar_T298K [kcal/mol]": 4.745690000000001,
         "_deepnote_index_column": "25%"
        },
        {
         "volume [A^3]": 2455.9954589999998,
         "weight [u]": 1350.96407,
         "surface_area [m^2/g]": 1979.545,
         "void_fraction": 0.29426499999999994,
         "void_volume [cm^3/g]": 0.33144999999999997,
         "metal_linker": 3,
         "organic_linker1": 10,
         "organic_linker2": 21,
         "CO2/N2_selectivity": 16.303688174999998,
         "heat_adsorption_CO2_P0.15bar_T298K [kcal/mol]": 5.6064229999999995,
         "_deepnote_index_column": "50%"
        },
        {
         "volume [A^3]": 4462.6829640000005,
         "weight [u]": 2175.151385,
         "surface_area [m^2/g]": 3217.4275,
         "void_fraction": 0.4286275,
         "void_volume [cm^3/g]": 0.6569999999999998,
         "metal_linker": 4,
         "organic_linker1": 16,
         "organic_linker2": 25,
         "CO2/N2_selectivity": 29.4962069625,
         "heat_adsorption_CO2_P0.15bar_T298K [kcal/mol]": 6.529271250000001,
         "_deepnote_index_column": "75%"
        },
        {
         "volume [A^3]": 80465.312439,
         "weight [u]": 16731.4848,
         "surface_area [m^2/g]": 6685.94,
         "void_fraction": 0.8687099999999999,
         "void_volume [cm^3/g]": 5.2083,
         "metal_linker": 12,
         "organic_linker1": 56,
         "organic_linker2": 58,
         "CO2/N2_selectivity": 456.2986475,
         "heat_adsorption_CO2_P0.15bar_T298K [kcal/mol]": 10.700387,
         "_deepnote_index_column": "max"
        }
       ],
       "rows_bottom": null
      },
      "text/plain": "       volume [A^3]    weight [u]  surface_area [m^2/g]  void_fraction  \\\ncount   2000.000000   2000.000000           2000.000000    2000.000000   \nmean    5011.180558   1896.448436           2133.746110       0.324054   \nstd     7312.758142   1582.597825           1572.311904       0.192284   \nmin      670.112177    467.013680              0.000000       0.000000   \n25%     1644.506152    919.679909            895.837500       0.175725   \n50%     2455.995459   1350.964070           1979.545000       0.294265   \n75%     4462.682964   2175.151385           3217.427500       0.428627   \nmax    80465.312439  16731.484800           6685.940000       0.868710   \n\n       void_volume [cm^3/g]  metal_linker  organic_linker1  organic_linker2  \\\ncount           2000.000000   2000.000000      2000.000000      2000.000000   \nmean               0.564317      3.997500        11.396500        20.334500   \nstd                0.679998      3.077861        10.223431         9.746749   \nmin                0.000000      1.000000         1.000000         1.000000   \n25%                0.156375      2.000000         4.000000        14.000000   \n50%                0.331450      3.000000        10.000000        21.000000   \n75%                0.657000      4.000000        16.000000        25.000000   \nmax                5.208300     12.000000        56.000000        58.000000   \n\n       CO2/N2_selectivity  heat_adsorption_CO2_P0.15bar_T298K [kcal/mol]  \ncount         2000.000000                                    2000.000000  \nmean            23.307845                                       5.577378  \nstd             23.929102                                       1.572049  \nmin              2.282612                                       1.756585  \n25%              8.877622                                       4.745690  \n50%             16.303688                                       5.606423  \n75%             29.496207                                       6.529271  \nmax            456.298648                                      10.700387  ",
      "text/html": "<div>\n<style scoped>\n    .dataframe tbody tr th:only-of-type {\n        vertical-align: middle;\n    }\n\n    .dataframe tbody tr th {\n        vertical-align: top;\n    }\n\n    .dataframe thead th {\n        text-align: right;\n    }\n</style>\n<table border=\"1\" class=\"dataframe\">\n  <thead>\n    <tr style=\"text-align: right;\">\n      <th></th>\n      <th>volume [A^3]</th>\n      <th>weight [u]</th>\n      <th>surface_area [m^2/g]</th>\n      <th>void_fraction</th>\n      <th>void_volume [cm^3/g]</th>\n      <th>metal_linker</th>\n      <th>organic_linker1</th>\n      <th>organic_linker2</th>\n      <th>CO2/N2_selectivity</th>\n      <th>heat_adsorption_CO2_P0.15bar_T298K [kcal/mol]</th>\n    </tr>\n  </thead>\n  <tbody>\n    <tr>\n      <th>count</th>\n      <td>2000.000000</td>\n      <td>2000.000000</td>\n      <td>2000.000000</td>\n      <td>2000.000000</td>\n      <td>2000.000000</td>\n      <td>2000.000000</td>\n      <td>2000.000000</td>\n      <td>2000.000000</td>\n      <td>2000.000000</td>\n      <td>2000.000000</td>\n    </tr>\n    <tr>\n      <th>mean</th>\n      <td>5011.180558</td>\n      <td>1896.448436</td>\n      <td>2133.746110</td>\n      <td>0.324054</td>\n      <td>0.564317</td>\n      <td>3.997500</td>\n      <td>11.396500</td>\n      <td>20.334500</td>\n      <td>23.307845</td>\n      <td>5.577378</td>\n    </tr>\n    <tr>\n      <th>std</th>\n      <td>7312.758142</td>\n      <td>1582.597825</td>\n      <td>1572.311904</td>\n      <td>0.192284</td>\n      <td>0.679998</td>\n      <td>3.077861</td>\n      <td>10.223431</td>\n      <td>9.746749</td>\n      <td>23.929102</td>\n      <td>1.572049</td>\n    </tr>\n    <tr>\n      <th>min</th>\n      <td>670.112177</td>\n      <td>467.013680</td>\n      <td>0.000000</td>\n      <td>0.000000</td>\n      <td>0.000000</td>\n      <td>1.000000</td>\n      <td>1.000000</td>\n      <td>1.000000</td>\n      <td>2.282612</td>\n      <td>1.756585</td>\n    </tr>\n    <tr>\n      <th>25%</th>\n      <td>1644.506152</td>\n      <td>919.679909</td>\n      <td>895.837500</td>\n      <td>0.175725</td>\n      <td>0.156375</td>\n      <td>2.000000</td>\n      <td>4.000000</td>\n      <td>14.000000</td>\n      <td>8.877622</td>\n      <td>4.745690</td>\n    </tr>\n    <tr>\n      <th>50%</th>\n      <td>2455.995459</td>\n      <td>1350.964070</td>\n      <td>1979.545000</td>\n      <td>0.294265</td>\n      <td>0.331450</td>\n      <td>3.000000</td>\n      <td>10.000000</td>\n      <td>21.000000</td>\n      <td>16.303688</td>\n      <td>5.606423</td>\n    </tr>\n    <tr>\n      <th>75%</th>\n      <td>4462.682964</td>\n      <td>2175.151385</td>\n      <td>3217.427500</td>\n      <td>0.428627</td>\n      <td>0.657000</td>\n      <td>4.000000</td>\n      <td>16.000000</td>\n      <td>25.000000</td>\n      <td>29.496207</td>\n      <td>6.529271</td>\n    </tr>\n    <tr>\n      <th>max</th>\n      <td>80465.312439</td>\n      <td>16731.484800</td>\n      <td>6685.940000</td>\n      <td>0.868710</td>\n      <td>5.208300</td>\n      <td>12.000000</td>\n      <td>56.000000</td>\n      <td>58.000000</td>\n      <td>456.298648</td>\n      <td>10.700387</td>\n    </tr>\n  </tbody>\n</table>\n</div>"
     },
     "metadata": {}
    }
   ]
  },
  {
   "cell_type": "markdown",
   "source": "## Check for missing values",
   "metadata": {
    "tags": [],
    "cell_id": "00010-9b3ccf0b-5596-4374-be2b-7167b48dad1d",
    "deepnote_cell_type": "markdown"
   }
  },
  {
   "cell_type": "code",
   "metadata": {
    "tags": [],
    "cell_id": "00011-b3640455-f197-4e40-adb7-717f9595ec1c",
    "deepnote_to_be_reexecuted": false,
    "source_hash": "aa78feb",
    "execution_start": 1631864637495,
    "execution_millis": 30,
    "deepnote_cell_type": "code"
   },
   "source": "missing_train = pd.DataFrame(train.isna().sum())\nmissing_train = missing_train.drop(['MOFname', 'CO2_working_capacity [mL/g]']).reset_index()\nmissing_train.columns = ['feature', 'count']\nprint(missing_train)",
   "execution_count": 10,
   "outputs": [
    {
     "name": "stdout",
     "text": "                                          feature  count\n0                                    volume [A^3]      0\n1                                      weight [u]      0\n2                            surface_area [m^2/g]      0\n3                                   void_fraction      0\n4                            void_volume [cm^3/g]      0\n5                               functional_groups    323\n6                                    metal_linker      0\n7                                 organic_linker1      0\n8                                 organic_linker2      0\n9                                        topology      0\n10                             CO2/N2_selectivity      0\n11  heat_adsorption_CO2_P0.15bar_T298K [kcal/mol]   2089\n",
     "output_type": "stream"
    }
   ]
  },
  {
   "cell_type": "code",
   "source": "missing_test = pd.DataFrame(test.isna().sum())\nmissing_test = missing_test.drop(['MOFname']).reset_index()\nmissing_test.columns = ['feature', 'count']\nprint(missing_test)",
   "metadata": {
    "tags": [],
    "cell_id": "00013-5763f6a8-2cfe-4c73-850b-175cf7d40ad7",
    "deepnote_to_be_reexecuted": false,
    "source_hash": "1130233e",
    "execution_start": 1631864637523,
    "execution_millis": 10,
    "deepnote_cell_type": "code"
   },
   "outputs": [
    {
     "name": "stdout",
     "text": "                                          feature  count\n0                                    volume [A^3]      0\n1                                      weight [u]      0\n2                            surface_area [m^2/g]      0\n3                                   void_fraction      0\n4                            void_volume [cm^3/g]      0\n5                               functional_groups     21\n6                                    metal_linker      0\n7                                 organic_linker1      0\n8                                 organic_linker2      0\n9                                        topology      0\n10                             CO2/N2_selectivity      0\n11  heat_adsorption_CO2_P0.15bar_T298K [kcal/mol]      0\n",
     "output_type": "stream"
    }
   ],
   "execution_count": 11
  },
  {
   "cell_type": "markdown",
   "source": "## Distribution",
   "metadata": {
    "tags": [],
    "cell_id": "00015-34365875-76d5-45e2-bb73-9390365adda9",
    "deepnote_cell_type": "markdown"
   }
  },
  {
   "cell_type": "code",
   "source": "train = train.drop(columns=['MOFname'])",
   "metadata": {
    "tags": [],
    "cell_id": "00016-3674c2b1-6f8f-4693-a357-923da6609079",
    "deepnote_to_be_reexecuted": false,
    "source_hash": "a264b2c9",
    "execution_start": 1631864637530,
    "execution_millis": 6,
    "deepnote_cell_type": "code"
   },
   "outputs": [],
   "execution_count": 12
  },
  {
   "cell_type": "code",
   "source": "# train_array = train.to_numpy()\nfor i, col in enumerate(train.columns):\n    if not np.issubdtype(train[col].dtype, np.number):\n        train[col] = train[col].astype('category').cat.codes\n    train[col].plot(fig=plt.figure(i), kind='density', xlim=(train[col].min(), train[col].max()))\n    plt.title(col)\nplt.show()",
   "metadata": {
    "tags": [],
    "cell_id": "00016-e399861f-254d-4a29-976e-d0bae8ed3c30",
    "deepnote_to_be_reexecuted": false,
    "source_hash": "e6724999",
    "execution_start": 1631865091306,
    "execution_millis": 20381,
    "deepnote_cell_type": "code"
   },
   "outputs": [
    {
     "data": {
      "text/plain": "<Figure size 432x288 with 1 Axes>",
      "image/png": "[encoded data removed]"
     },
     "metadata": {
      "needs_background": "light",
      "image/png": {
       "width": 411,
       "height": 264
      }
     },
     "output_type": "display_data"
    },
    {
     "data": {
      "text/plain": "<Figure size 432x288 with 1 Axes>",
      "image/png": "[encoded data removed]"
     },
     "metadata": {
      "needs_background": "light",
      "image/png": {
       "width": 419,
       "height": 264
      }
     },
     "output_type": "display_data"
    },
    {
     "data": {
      "text/plain": "<Figure size 432x288 with 1 Axes>",
      "image/png": "[encoded data removed]"
     },
     "metadata": {
      "needs_background": "light",
      "image/png": {
       "width": 413,
       "height": 264
      }
     },
     "output_type": "display_data"
    },
    {
     "data": {
      "text/plain": "<Figure size 432x288 with 1 Axes>",
      "image/png": "[encoded data removed]"
     },
     "metadata": {
      "needs_background": "light",
      "image/png": {
       "width": 386,
       "height": 264
      }
     },
     "output_type": "display_data"
    },
    {
     "data": {
      "text/plain": "<Figure size 432x288 with 1 Axes>",
      "image/png": "[encoded data removed]"
     },
     "metadata": {
      "needs_background": "light",
      "image/png": {
       "width": 386,
       "height": 264
      }
     },
     "output_type": "display_data"
    },
    {
     "data": {
      "text/plain": "<Figure size 432x288 with 1 Axes>",
      "image/png": "[encoded data removed]"
     },
     "metadata": {
      "needs_background": "light",
      "image/png": {
       "width": 404,
       "height": 264
      }
     },
     "output_type": "display_data"
    },
    {
     "data": {
      "text/plain": "<Figure size 432x288 with 1 Axes>",
      "image/png": "[encoded data removed]"
     },
     "metadata": {
      "needs_background": "light",
      "image/png": {
       "width": 398,
       "height": 264
      }
     },
     "output_type": "display_data"
    },
    {
     "data": {
      "text/plain": "<Figure size 432x288 with 1 Axes>",
      "image/png": "[encoded data removed]"
     },
     "metadata": {
      "needs_background": "light",
      "image/png": {
       "width": 392,
       "height": 264
      }
     },
     "output_type": "display_data"
    },
    {
     "data": {
      "text/plain": "<Figure size 432x288 with 1 Axes>",
      "image/png": "[encoded data removed]"
     },
     "metadata": {
      "needs_background": "light",
      "image/png": {
       "width": 392,
       "height": 264
      }
     },
     "output_type": "display_data"
    },
    {
     "data": {
      "text/plain": "<Figure size 432x288 with 1 Axes>",
      "image/png": "[encoded data removed]"
     },
     "metadata": {
      "needs_background": "light",
      "image/png": {
       "width": 392,
       "height": 264
      }
     },
     "output_type": "display_data"
    },
    {
     "data": {
      "text/plain": "<Figure size 432x288 with 1 Axes>",
      "image/png": "[encoded data removed]"
     },
     "metadata": {
      "needs_background": "light",
      "image/png": {
       "width": 405,
       "height": 264
      }
     },
     "output_type": "display_data"
    },
    {
     "data": {
      "text/plain": "<Figure size 432x288 with 1 Axes>",
      "image/png": "[encoded data removed]"
     },
     "metadata": {
      "needs_background": "light",
      "image/png": {
       "width": 392,
       "height": 264
      }
     },
     "output_type": "display_data"
    },
    {
     "data": {
      "text/plain": "<Figure size 432x288 with 1 Axes>",
      "image/png": "[encoded data removed]"
     },
     "metadata": {
      "needs_background": "light",
      "image/png": {
       "width": 398,
       "height": 264
      }
     },
     "output_type": "display_data"
    }
   ],
   "execution_count": 20
  },
  {
   "cell_type": "code",
   "source": "test = test.drop(columns=['MOFname'])",
   "metadata": {
    "tags": [],
    "cell_id": "00017-22ddd708-f4e8-4eab-a2e6-f9cc317c4bc6",
    "deepnote_to_be_reexecuted": false,
    "source_hash": "2eb59d18",
    "execution_start": 1631864658619,
    "execution_millis": 0,
    "deepnote_cell_type": "code"
   },
   "outputs": [],
   "execution_count": 14
  },
  {
   "cell_type": "code",
   "source": "# train_array = train.to_numpy()\nfor i, col in enumerate(test.columns):\n    if not np.issubdtype(test[col].dtype, np.number):\n        test[col] = test[col].astype('category').cat.codes\n    test[col].plot(fig=plt.figure(i), kind='density', xlim=(test[col].min(), test[col].max()))\n    plt.title(col)\nplt.show()",
   "metadata": {
    "tags": [],
    "cell_id": "00018-63e6d15b-3e0a-4c22-baf3-107602c61736",
    "deepnote_to_be_reexecuted": false,
    "source_hash": "c06c6877",
    "execution_start": 1631864658620,
    "execution_millis": 3410,
    "deepnote_cell_type": "code"
   },
   "outputs": [
    {
     "data": {
      "text/plain": "<Figure size 432x288 with 1 Axes>",
      "image/png": "[encoded data removed]"
     },
     "metadata": {
      "needs_background": "light",
      "image/png": {
       "width": 424,
       "height": 264
      }
     },
     "output_type": "display_data"
    },
    {
     "data": {
      "text/plain": "<Figure size 432x288 with 1 Axes>",
      "image/png": "[encoded data removed]"
     },
     "metadata": {
      "needs_background": "light",
      "image/png": {
       "width": 405,
       "height": 264
      }
     },
     "output_type": "display_data"
    },
    {
     "data": {
      "text/plain": "<Figure size 432x288 with 1 Axes>",
      "image/png": "[encoded data removed]"
     },
     "metadata": {
      "needs_background": "light",
      "image/png": {
       "width": 411,
       "height": 264
      }
     },
     "output_type": "display_data"
    },
    {
     "data": {
      "text/plain": "<Figure size 432x288 with 1 Axes>",
      "image/png": "[encoded data removed]"
     },
     "metadata": {
      "needs_background": "light",
      "image/png": {
       "width": 386,
       "height": 264
      }
     },
     "output_type": "display_data"
    },
    {
     "data": {
      "text/plain": "<Figure size 432x288 with 1 Axes>",
      "image/png": "[encoded data removed]"
     },
     "metadata": {
      "needs_background": "light",
      "image/png": {
       "width": 386,
       "height": 264
      }
     },
     "output_type": "display_data"
    },
    {
     "data": {
      "text/plain": "<Figure size 432x288 with 1 Axes>",
      "image/png": "[encoded data removed]"
     },
     "metadata": {
      "needs_background": "light",
      "image/png": {
       "width": 404,
       "height": 264
      }
     },
     "output_type": "display_data"
    },
    {
     "data": {
      "text/plain": "<Figure size 432x288 with 1 Axes>",
      "image/png": "[encoded data removed]"
     },
     "metadata": {
      "needs_background": "light",
      "image/png": {
       "width": 398,
       "height": 264
      }
     },
     "output_type": "display_data"
    },
    {
     "data": {
      "text/plain": "<Figure size 432x288 with 1 Axes>",
      "image/png": "[encoded data removed]"
     },
     "metadata": {
      "needs_background": "light",
      "image/png": {
       "width": 392,
       "height": 264
      }
     },
     "output_type": "display_data"
    },
    {
     "data": {
      "text/plain": "<Figure size 432x288 with 1 Axes>",
      "image/png": "[encoded data removed]"
     },
     "metadata": {
      "needs_background": "light",
      "image/png": {
       "width": 392,
       "height": 264
      }
     },
     "output_type": "display_data"
    },
    {
     "data": {
      "text/plain": "<Figure size 432x288 with 1 Axes>",
      "image/png": "[encoded data removed]"
     },
     "metadata": {
      "needs_background": "light",
      "image/png": {
       "width": 389,
       "height": 264
      }
     },
     "output_type": "display_data"
    },
    {
     "data": {
      "text/plain": "<Figure size 432x288 with 1 Axes>",
      "image/png": "[encoded data removed]"
     },
     "metadata": {
      "needs_background": "light",
      "image/png": {
       "width": 398,
       "height": 264
      }
     },
     "output_type": "display_data"
    },
    {
     "data": {
      "text/plain": "<Figure size 432x288 with 1 Axes>",
      "image/png": "[encoded data removed]"
     },
     "metadata": {
      "needs_background": "light",
      "image/png": {
       "width": 392,
       "height": 264
      }
     },
     "output_type": "display_data"
    }
   ],
   "execution_count": 15
  },
  {
   "cell_type": "markdown",
   "source": "## Correlation",
   "metadata": {
    "tags": [],
    "cell_id": "00019-1e6d1a6d-dfe6-48ea-8ba8-a4badf4124d0",
    "deepnote_cell_type": "markdown"
   }
  },
  {
   "cell_type": "code",
   "source": "corr = train.corr()\nmask = np.triu(np.ones_like(corr, dtype=bool))\nf, ax = plt.subplots(figsize=(16, 16), facecolor='#EAECEE')\ncmap = sns.color_palette(\"viridis\", as_cmap=True)\nsns.heatmap(corr, mask=mask, cmap=cmap, vmax=0.05, vmin=-0.05, center=0, annot=False,\n            square=True, linewidths=.5, cbar_kws={\"shrink\": 0.75})\n\nax.set_title('Correlation heatmap', fontsize=24, y= 1.05)\ncolorbar = ax.collections[0].colorbar\ncolorbar.set_ticks([-0.75, 0, 0.75])",
   "metadata": {
    "tags": [],
    "cell_id": "00020-ae05c56a-1051-4a82-9432-4470af6656ee",
    "deepnote_to_be_reexecuted": false,
    "source_hash": "8235d5f5",
    "execution_start": 1631864662034,
    "execution_millis": 789,
    "deepnote_cell_type": "code"
   },
   "outputs": [
    {
     "data": {
      "text/plain": "<Figure size 1152x1152 with 2 Axes>",
      "image/png": "[encoded data removed]"
     },
     "metadata": {
      "image/png": {
       "width": 1088,
       "height": 1042
      }
     },
     "output_type": "display_data"
    }
   ],
   "execution_count": 16
  },
  {
   "cell_type": "code",
   "source": "corr = test.corr()\nmask = np.triu(np.ones_like(corr, dtype=bool))\nf, ax = plt.subplots(figsize=(16, 16), facecolor='#EAECEE')\ncmap = sns.color_palette(\"viridis\", as_cmap=True)\nsns.heatmap(corr, mask=mask, cmap=cmap, vmax=0.05, vmin=-0.05, center=0, annot=False,\n            square=True, linewidths=.5, cbar_kws={\"shrink\": 0.75})\n\nax.set_title('Correlation heatmap', fontsize=24, y= 1.05)\ncolorbar = ax.collections[0].colorbar\ncolorbar.set_ticks([-0.75, 0, 0.75])",
   "metadata": {
    "tags": [],
    "cell_id": "00021-d7171c0a-3a0d-4c42-9889-c7168298c491",
    "deepnote_to_be_reexecuted": false,
    "source_hash": "75d4b308",
    "execution_start": 1631864662827,
    "execution_millis": 681,
    "deepnote_cell_type": "code"
   },
   "outputs": [
    {
     "data": {
      "text/plain": "<Figure size 1152x1152 with 2 Axes>",
      "image/png": "[encoded data removed]"
     },
     "metadata": {
      "image/png": {
       "width": 1088,
       "height": 1042
      }
     },
     "output_type": "display_data"
    }
   ],
   "execution_count": 17
  },
  {
   "cell_type": "markdown",
   "source": "<a style='text-decoration:none;line-height:16px;display:flex;color:#5B5B62;padding:10px;justify-content:end;' href='https://deepnote.com?utm_source=created-in-deepnote-cell&projectId=6c1c264d-3d80-4f80-bae8-8af96b446f78' target=\"_blank\">\n<img alt='Created in deepnote.com' style='display:inline;max-height:16px;margin:0px;margin-right:7.5px;' src='data:image/svg+xml;base64,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' > </img>\nCreated in <span style='font-weight:600;margin-left:4px;'>Deepnote</span></a>",
   "metadata": {
    "tags": [],
    "created_in_deepnote_cell": true,
    "deepnote_cell_type": "markdown"
   }
  }
 ],
 "nbformat": 4,
 "nbformat_minor": 2,
 "metadata": {
  "orig_nbformat": 2,
  "deepnote": {
   "is_reactive": false
  },
  "deepnote_notebook_id": "1c1c2e32-6a71-4f45-9a27-9c2f4772a282",
  "deepnote_execution_queue": []
 }
}